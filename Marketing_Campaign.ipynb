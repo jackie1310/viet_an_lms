{
  "nbformat": 4,
  "nbformat_minor": 0,
  "metadata": {
    "colab": {
      "provenance": [],
      "toc_visible": true
    },
    "kernelspec": {
      "name": "python3",
      "display_name": "Python 3"
    },
    "language_info": {
      "name": "python"
    }
  },
  "cells": [
    {
      "cell_type": "markdown",
      "source": [
        "**Dataset**: https://github.com/sca-programming-school/datasets/blob/main/marketing_data_with_missing_values.csv"
      ],
      "metadata": {
        "id": "bGNs8yzWW2r9"
      }
    },
    {
      "cell_type": "code",
      "execution_count": null,
      "metadata": {
        "id": "56qd1pSBWxAw"
      },
      "outputs": [],
      "source": [
        "import pandas as pd\n",
        "import matplotlib.pyplot as plt\n",
        "import seaborn as sns"
      ]
    },
    {
      "cell_type": "markdown",
      "source": [
        "# **4) Data overview (in details)**"
      ],
      "metadata": {
        "id": "vOa0Y5D1U0VK"
      }
    },
    {
      "cell_type": "code",
      "source": [
        "df = pd.read_csv(\"https://raw.githubusercontent.com/sca-programming-school/datasets/refs/heads/main/marketing_data_with_missing_values.csv\")\n",
        "df.info()"
      ],
      "metadata": {
        "colab": {
          "base_uri": "https://localhost:8080/"
        },
        "id": "cVwNt19XUhEF",
        "outputId": "a3e6d6ba-f4eb-41fc-b0ad-2067e876f8b3"
      },
      "execution_count": null,
      "outputs": [
        {
          "output_type": "stream",
          "name": "stdout",
          "text": [
            "<class 'pandas.core.frame.DataFrame'>\n",
            "RangeIndex: 2240 entries, 0 to 2239\n",
            "Data columns (total 28 columns):\n",
            " #   Column               Non-Null Count  Dtype  \n",
            "---  ------               --------------  -----  \n",
            " 0   ID                   2240 non-null   int64  \n",
            " 1   Year_Birth           2240 non-null   int64  \n",
            " 2   Education            2128 non-null   object \n",
            " 3   Marital_Status       2240 non-null   object \n",
            " 4   Income               1997 non-null   object \n",
            " 5   Kidhome              2240 non-null   int64  \n",
            " 6   Teenhome             2240 non-null   int64  \n",
            " 7   Dt_Customer          2128 non-null   object \n",
            " 8   Recency              2240 non-null   int64  \n",
            " 9   MntWines             2240 non-null   int64  \n",
            " 10  MntFruits            2240 non-null   int64  \n",
            " 11  MntMeatProducts      2240 non-null   int64  \n",
            " 12  MntFishProducts      2240 non-null   int64  \n",
            " 13  MntSweetProducts     2240 non-null   int64  \n",
            " 14  MntGoldProds         2240 non-null   int64  \n",
            " 15  NumDealsPurchases    2240 non-null   int64  \n",
            " 16  NumWebPurchases      2240 non-null   int64  \n",
            " 17  NumCatalogPurchases  2240 non-null   int64  \n",
            " 18  NumStorePurchases    2240 non-null   int64  \n",
            " 19  NumWebVisitsMonth    2016 non-null   float64\n",
            " 20  AcceptedCmp3         2240 non-null   int64  \n",
            " 21  AcceptedCmp4         2240 non-null   int64  \n",
            " 22  AcceptedCmp5         2240 non-null   int64  \n",
            " 23  AcceptedCmp1         2240 non-null   int64  \n",
            " 24  AcceptedCmp2         2240 non-null   int64  \n",
            " 25  Response             2240 non-null   int64  \n",
            " 26  Complain             2240 non-null   int64  \n",
            " 27  Country              2240 non-null   object \n",
            "dtypes: float64(1), int64(22), object(5)\n",
            "memory usage: 490.1+ KB\n"
          ]
        }
      ]
    },
    {
      "cell_type": "markdown",
      "source": [
        "# **5) Data Cleaning**"
      ],
      "metadata": {
        "id": "h03LqN8jVPnb"
      }
    },
    {
      "cell_type": "code",
      "source": [
        "# Columns with missing values\n",
        "df.columns[df.isna().any()]"
      ],
      "metadata": {
        "colab": {
          "base_uri": "https://localhost:8080/"
        },
        "id": "o1El1XVhUk7b",
        "outputId": "3fcabea1-9c9e-419f-dc0a-abeaa0823c73"
      },
      "execution_count": null,
      "outputs": [
        {
          "output_type": "execute_result",
          "data": {
            "text/plain": [
              "Index(['Education', 'Income', 'Dt_Customer', 'NumWebVisitsMonth'], dtype='object')"
            ]
          },
          "metadata": {},
          "execution_count": 3
        }
      ]
    },
    {
      "cell_type": "markdown",
      "source": [
        "There are four columns with missing values:\n",
        "+ `Education` (category) => mode\n",
        "+ `Income` (Category) => mode\n",
        "+ `DT_Customer` (Category) => NaT\n",
        "+ `NumWebVisitsMonth` (number) => mean"
      ],
      "metadata": {
        "id": "B29OW68YU87x"
      }
    },
    {
      "cell_type": "code",
      "source": [
        "def replace_missing_value(col_name, replace_type):\n",
        "    if replace_type == \"mean\":\n",
        "        df[col_name] = df[col_name].fillna(df[col_name].mean())\n",
        "    elif replace_type == \"mode\":\n",
        "        df[col_name] = df[col_name].fillna(df[col_name].mode()[0])\n",
        "    elif replace_type == \"median\":\n",
        "        df[col_name] = df[col_name].fillna(df[col_name].median())\n",
        "    return df[col_name]"
      ],
      "metadata": {
        "id": "bHYqvHdbMEsJ"
      },
      "execution_count": null,
      "outputs": []
    },
    {
      "cell_type": "markdown",
      "source": [
        "### **Education column**"
      ],
      "metadata": {
        "id": "7iRpfAXSLybr"
      }
    },
    {
      "cell_type": "markdown",
      "source": [
        "Replace missing values with median values"
      ],
      "metadata": {
        "id": "N9Q0JPe1L19C"
      }
    },
    {
      "cell_type": "code",
      "source": [
        "df[\"Education\"] = replace_missing_value(\"Education\", \"mode\")\n",
        "df[\"Education\"].info()"
      ],
      "metadata": {
        "id": "ER0vgm8sUsQV",
        "colab": {
          "base_uri": "https://localhost:8080/"
        },
        "outputId": "5aff9a30-4a65-4d33-9f7f-807cc001c458"
      },
      "execution_count": null,
      "outputs": [
        {
          "output_type": "stream",
          "name": "stdout",
          "text": [
            "<class 'pandas.core.series.Series'>\n",
            "RangeIndex: 2240 entries, 0 to 2239\n",
            "Series name: Education\n",
            "Non-Null Count  Dtype \n",
            "--------------  ----- \n",
            "2240 non-null   object\n",
            "dtypes: object(1)\n",
            "memory usage: 17.6+ KB\n"
          ]
        }
      ]
    },
    {
      "cell_type": "markdown",
      "source": [
        "### **Income column**"
      ],
      "metadata": {
        "id": "rQu3UjUeNFu7"
      }
    },
    {
      "cell_type": "markdown",
      "source": [
        "Replace missing values with median values"
      ],
      "metadata": {
        "id": "NRvou2xtNJhn"
      }
    },
    {
      "cell_type": "code",
      "source": [
        "df[\"Income\"] = replace_missing_value(\"Income\", \"mode\")\n",
        "df[\"Income\"].info()"
      ],
      "metadata": {
        "colab": {
          "base_uri": "https://localhost:8080/"
        },
        "id": "6iCJSykcNICK",
        "outputId": "bd480192-545d-4cf5-dfd4-5aec60f33f8d"
      },
      "execution_count": null,
      "outputs": [
        {
          "output_type": "stream",
          "name": "stdout",
          "text": [
            "<class 'pandas.core.series.Series'>\n",
            "RangeIndex: 2240 entries, 0 to 2239\n",
            "Series name: Income\n",
            "Non-Null Count  Dtype \n",
            "--------------  ----- \n",
            "2240 non-null   object\n",
            "dtypes: object(1)\n",
            "memory usage: 17.6+ KB\n"
          ]
        }
      ]
    },
    {
      "cell_type": "markdown",
      "source": [
        "### **Dt_Customer column**"
      ],
      "metadata": {
        "id": "Eg4_oWnsNMcg"
      }
    },
    {
      "cell_type": "markdown",
      "source": [
        "+ Convert `.to_datetime()` errors\n",
        "+ Using parameters like `errors='coerce'`, which converts invalid parsing to `NaT` (Not a Time), making it easier to clean data."
      ],
      "metadata": {
        "id": "nDpAETCwNNB2"
      }
    },
    {
      "cell_type": "code",
      "source": [
        "# Convert column to datetime, replacing invalid values with NaT\n",
        "df[\"Dt_Customer\"] = pd.to_datetime(df[\"Dt_Customer\"], errors='coerce')\n",
        "\n",
        "# Remove rows where 'Dt_Customer' is NaT (optional)\n",
        "df = df.dropna(subset=[\"Dt_Customer\"])\n",
        "\n",
        "# Reset index after dropping rows\n",
        "df.reset_index(drop=True, inplace=True)"
      ],
      "metadata": {
        "id": "lfr0D5KiNQkB",
        "colab": {
          "base_uri": "https://localhost:8080/"
        },
        "outputId": "9b7ffec3-90ff-4605-8aa9-605eda1ae55f"
      },
      "execution_count": null,
      "outputs": [
        {
          "output_type": "stream",
          "name": "stderr",
          "text": [
            "<ipython-input-7-f0e1872615e6>:2: UserWarning: Could not infer format, so each element will be parsed individually, falling back to `dateutil`. To ensure parsing is consistent and as-expected, please specify a format.\n",
            "  df[\"Dt_Customer\"] = pd.to_datetime(df[\"Dt_Customer\"], errors='coerce')\n"
          ]
        }
      ]
    },
    {
      "cell_type": "markdown",
      "source": [
        "### **NumWebVisitMonth column**"
      ],
      "metadata": {
        "id": "iu-R7EygN1Ok"
      }
    },
    {
      "cell_type": "markdown",
      "source": [
        "Replace missing values with mean values"
      ],
      "metadata": {
        "id": "2MzgcnhfN3Se"
      }
    },
    {
      "cell_type": "code",
      "source": [
        "df[\"NumWebVisitsMonth\"] = replace_missing_value(\"NumWebVisitsMonth\", \"median\")\n",
        "df[\"NumWebVisitsMonth\"].info()"
      ],
      "metadata": {
        "colab": {
          "base_uri": "https://localhost:8080/"
        },
        "id": "1nDVZBqaN2nZ",
        "outputId": "5bd56695-dd24-40d2-b4e9-28c5cda55ea1"
      },
      "execution_count": null,
      "outputs": [
        {
          "output_type": "stream",
          "name": "stdout",
          "text": [
            "<class 'pandas.core.series.Series'>\n",
            "RangeIndex: 2128 entries, 0 to 2127\n",
            "Series name: NumWebVisitsMonth\n",
            "Non-Null Count  Dtype  \n",
            "--------------  -----  \n",
            "2128 non-null   float64\n",
            "dtypes: float64(1)\n",
            "memory usage: 16.8 KB\n"
          ]
        },
        {
          "output_type": "stream",
          "name": "stderr",
          "text": [
            "<ipython-input-4-235bd022e4ce>:7: SettingWithCopyWarning: \n",
            "A value is trying to be set on a copy of a slice from a DataFrame.\n",
            "Try using .loc[row_indexer,col_indexer] = value instead\n",
            "\n",
            "See the caveats in the documentation: https://pandas.pydata.org/pandas-docs/stable/user_guide/indexing.html#returning-a-view-versus-a-copy\n",
            "  df[col_name] = df[col_name].fillna(df[col_name].median())\n",
            "<ipython-input-8-8580d43d3a33>:1: SettingWithCopyWarning: \n",
            "A value is trying to be set on a copy of a slice from a DataFrame.\n",
            "Try using .loc[row_indexer,col_indexer] = value instead\n",
            "\n",
            "See the caveats in the documentation: https://pandas.pydata.org/pandas-docs/stable/user_guide/indexing.html#returning-a-view-versus-a-copy\n",
            "  df[\"NumWebVisitsMonth\"] = replace_missing_value(\"NumWebVisitsMonth\", \"median\")\n"
          ]
        }
      ]
    },
    {
      "cell_type": "markdown",
      "source": [
        "### **Final check**"
      ],
      "metadata": {
        "id": "Wp6NawwJO2T8"
      }
    },
    {
      "cell_type": "code",
      "source": [
        "df.info()"
      ],
      "metadata": {
        "colab": {
          "base_uri": "https://localhost:8080/"
        },
        "id": "3HtaX1hiOw3d",
        "outputId": "2cfaf786-276a-40e3-a936-a86dc688c841"
      },
      "execution_count": null,
      "outputs": [
        {
          "output_type": "stream",
          "name": "stdout",
          "text": [
            "<class 'pandas.core.frame.DataFrame'>\n",
            "RangeIndex: 2128 entries, 0 to 2127\n",
            "Data columns (total 28 columns):\n",
            " #   Column               Non-Null Count  Dtype         \n",
            "---  ------               --------------  -----         \n",
            " 0   ID                   2128 non-null   int64         \n",
            " 1   Year_Birth           2128 non-null   int64         \n",
            " 2   Education            2128 non-null   object        \n",
            " 3   Marital_Status       2128 non-null   object        \n",
            " 4   Income               2128 non-null   object        \n",
            " 5   Kidhome              2128 non-null   int64         \n",
            " 6   Teenhome             2128 non-null   int64         \n",
            " 7   Dt_Customer          2128 non-null   datetime64[ns]\n",
            " 8   Recency              2128 non-null   int64         \n",
            " 9   MntWines             2128 non-null   int64         \n",
            " 10  MntFruits            2128 non-null   int64         \n",
            " 11  MntMeatProducts      2128 non-null   int64         \n",
            " 12  MntFishProducts      2128 non-null   int64         \n",
            " 13  MntSweetProducts     2128 non-null   int64         \n",
            " 14  MntGoldProds         2128 non-null   int64         \n",
            " 15  NumDealsPurchases    2128 non-null   int64         \n",
            " 16  NumWebPurchases      2128 non-null   int64         \n",
            " 17  NumCatalogPurchases  2128 non-null   int64         \n",
            " 18  NumStorePurchases    2128 non-null   int64         \n",
            " 19  NumWebVisitsMonth    2128 non-null   float64       \n",
            " 20  AcceptedCmp3         2128 non-null   int64         \n",
            " 21  AcceptedCmp4         2128 non-null   int64         \n",
            " 22  AcceptedCmp5         2128 non-null   int64         \n",
            " 23  AcceptedCmp1         2128 non-null   int64         \n",
            " 24  AcceptedCmp2         2128 non-null   int64         \n",
            " 25  Response             2128 non-null   int64         \n",
            " 26  Complain             2128 non-null   int64         \n",
            " 27  Country              2128 non-null   object        \n",
            "dtypes: datetime64[ns](1), float64(1), int64(22), object(4)\n",
            "memory usage: 465.6+ KB\n"
          ]
        }
      ]
    },
    {
      "cell_type": "code",
      "source": [
        "df.describe()"
      ],
      "metadata": {
        "colab": {
          "base_uri": "https://localhost:8080/",
          "height": 453
        },
        "id": "RagilKAFYjtb",
        "outputId": "c108bf3a-7825-42f4-8f0e-c38bef677e7e"
      },
      "execution_count": null,
      "outputs": [
        {
          "output_type": "execute_result",
          "data": {
            "text/plain": [
              "                 ID  Year_Birth      Kidhome     Teenhome  \\\n",
              "count   2128.000000  2128.00000  2128.000000  2128.000000   \n",
              "mean    5587.730733  1968.81485     0.442669     0.502820   \n",
              "min        0.000000  1893.00000     0.000000     0.000000   \n",
              "25%     2844.500000  1959.00000     0.000000     0.000000   \n",
              "50%     5482.500000  1970.00000     0.000000     0.000000   \n",
              "75%     8395.500000  1978.00000     1.000000     1.000000   \n",
              "max    11191.000000  1996.00000     2.000000     2.000000   \n",
              "std     3233.295405    12.04183     0.537720     0.543363   \n",
              "\n",
              "                         Dt_Customer      Recency     MntWines    MntFruits  \\\n",
              "count                           2128  2128.000000  2128.000000  2128.000000   \n",
              "mean   2013-07-09 12:02:01.804511232    49.301692   303.119361    26.371711   \n",
              "min              2012-07-30 00:00:00     0.000000     0.000000     0.000000   \n",
              "25%              2013-01-16 00:00:00    25.000000    23.000000     1.000000   \n",
              "50%              2013-07-06 12:00:00    50.000000   173.000000     8.000000   \n",
              "75%              2013-12-30 00:00:00    74.000000   502.000000    33.000000   \n",
              "max              2014-06-29 00:00:00    99.000000  1493.000000   199.000000   \n",
              "std                              NaN    28.896182   336.048626    39.681471   \n",
              "\n",
              "       MntMeatProducts  MntFishProducts  ...  NumCatalogPurchases  \\\n",
              "count      2128.000000      2128.000000  ...          2128.000000   \n",
              "mean        168.867481        37.834586  ...             2.672932   \n",
              "min           0.000000         0.000000  ...             0.000000   \n",
              "25%          15.750000         3.000000  ...             0.000000   \n",
              "50%          67.000000        12.000000  ...             2.000000   \n",
              "75%         238.250000        50.000000  ...             4.000000   \n",
              "max        1725.000000       259.000000  ...            28.000000   \n",
              "std         228.079421        54.903916  ...             2.942352   \n",
              "\n",
              "       NumStorePurchases  NumWebVisitsMonth  AcceptedCmp3  AcceptedCmp4  \\\n",
              "count        2128.000000        2128.000000   2128.000000   2128.000000   \n",
              "mean            5.786184           5.382989      0.073308      0.074718   \n",
              "min             0.000000           0.000000      0.000000      0.000000   \n",
              "25%             3.000000           4.000000      0.000000      0.000000   \n",
              "50%             5.000000           6.000000      0.000000      0.000000   \n",
              "75%             8.000000           7.000000      0.000000      0.000000   \n",
              "max            13.000000          20.000000      1.000000      1.000000   \n",
              "std             3.251828           2.332178      0.260703      0.262998   \n",
              "\n",
              "       AcceptedCmp5  AcceptedCmp1  AcceptedCmp2     Response     Complain  \n",
              "count   2128.000000   2128.000000   2128.000000  2128.000000  2128.000000  \n",
              "mean       0.072368      0.064850      0.013628     0.148966     0.007989  \n",
              "min        0.000000      0.000000      0.000000     0.000000     0.000000  \n",
              "25%        0.000000      0.000000      0.000000     0.000000     0.000000  \n",
              "50%        0.000000      0.000000      0.000000     0.000000     0.000000  \n",
              "75%        0.000000      0.000000      0.000000     0.000000     0.000000  \n",
              "max        1.000000      1.000000      1.000000     1.000000     1.000000  \n",
              "std        0.259158      0.246318      0.115967     0.356139     0.089043  \n",
              "\n",
              "[8 rows x 24 columns]"
            ],
            "text/html": [
              "\n",
              "  <div id=\"df-f22cb4e2-9207-4c3c-a2b9-376ad6fbbc19\" class=\"colab-df-container\">\n",
              "    <div>\n",
              "<style scoped>\n",
              "    .dataframe tbody tr th:only-of-type {\n",
              "        vertical-align: middle;\n",
              "    }\n",
              "\n",
              "    .dataframe tbody tr th {\n",
              "        vertical-align: top;\n",
              "    }\n",
              "\n",
              "    .dataframe thead th {\n",
              "        text-align: right;\n",
              "    }\n",
              "</style>\n",
              "<table border=\"1\" class=\"dataframe\">\n",
              "  <thead>\n",
              "    <tr style=\"text-align: right;\">\n",
              "      <th></th>\n",
              "      <th>ID</th>\n",
              "      <th>Year_Birth</th>\n",
              "      <th>Kidhome</th>\n",
              "      <th>Teenhome</th>\n",
              "      <th>Dt_Customer</th>\n",
              "      <th>Recency</th>\n",
              "      <th>MntWines</th>\n",
              "      <th>MntFruits</th>\n",
              "      <th>MntMeatProducts</th>\n",
              "      <th>MntFishProducts</th>\n",
              "      <th>...</th>\n",
              "      <th>NumCatalogPurchases</th>\n",
              "      <th>NumStorePurchases</th>\n",
              "      <th>NumWebVisitsMonth</th>\n",
              "      <th>AcceptedCmp3</th>\n",
              "      <th>AcceptedCmp4</th>\n",
              "      <th>AcceptedCmp5</th>\n",
              "      <th>AcceptedCmp1</th>\n",
              "      <th>AcceptedCmp2</th>\n",
              "      <th>Response</th>\n",
              "      <th>Complain</th>\n",
              "    </tr>\n",
              "  </thead>\n",
              "  <tbody>\n",
              "    <tr>\n",
              "      <th>count</th>\n",
              "      <td>2128.000000</td>\n",
              "      <td>2128.00000</td>\n",
              "      <td>2128.000000</td>\n",
              "      <td>2128.000000</td>\n",
              "      <td>2128</td>\n",
              "      <td>2128.000000</td>\n",
              "      <td>2128.000000</td>\n",
              "      <td>2128.000000</td>\n",
              "      <td>2128.000000</td>\n",
              "      <td>2128.000000</td>\n",
              "      <td>...</td>\n",
              "      <td>2128.000000</td>\n",
              "      <td>2128.000000</td>\n",
              "      <td>2128.000000</td>\n",
              "      <td>2128.000000</td>\n",
              "      <td>2128.000000</td>\n",
              "      <td>2128.000000</td>\n",
              "      <td>2128.000000</td>\n",
              "      <td>2128.000000</td>\n",
              "      <td>2128.000000</td>\n",
              "      <td>2128.000000</td>\n",
              "    </tr>\n",
              "    <tr>\n",
              "      <th>mean</th>\n",
              "      <td>5587.730733</td>\n",
              "      <td>1968.81485</td>\n",
              "      <td>0.442669</td>\n",
              "      <td>0.502820</td>\n",
              "      <td>2013-07-09 12:02:01.804511232</td>\n",
              "      <td>49.301692</td>\n",
              "      <td>303.119361</td>\n",
              "      <td>26.371711</td>\n",
              "      <td>168.867481</td>\n",
              "      <td>37.834586</td>\n",
              "      <td>...</td>\n",
              "      <td>2.672932</td>\n",
              "      <td>5.786184</td>\n",
              "      <td>5.382989</td>\n",
              "      <td>0.073308</td>\n",
              "      <td>0.074718</td>\n",
              "      <td>0.072368</td>\n",
              "      <td>0.064850</td>\n",
              "      <td>0.013628</td>\n",
              "      <td>0.148966</td>\n",
              "      <td>0.007989</td>\n",
              "    </tr>\n",
              "    <tr>\n",
              "      <th>min</th>\n",
              "      <td>0.000000</td>\n",
              "      <td>1893.00000</td>\n",
              "      <td>0.000000</td>\n",
              "      <td>0.000000</td>\n",
              "      <td>2012-07-30 00:00:00</td>\n",
              "      <td>0.000000</td>\n",
              "      <td>0.000000</td>\n",
              "      <td>0.000000</td>\n",
              "      <td>0.000000</td>\n",
              "      <td>0.000000</td>\n",
              "      <td>...</td>\n",
              "      <td>0.000000</td>\n",
              "      <td>0.000000</td>\n",
              "      <td>0.000000</td>\n",
              "      <td>0.000000</td>\n",
              "      <td>0.000000</td>\n",
              "      <td>0.000000</td>\n",
              "      <td>0.000000</td>\n",
              "      <td>0.000000</td>\n",
              "      <td>0.000000</td>\n",
              "      <td>0.000000</td>\n",
              "    </tr>\n",
              "    <tr>\n",
              "      <th>25%</th>\n",
              "      <td>2844.500000</td>\n",
              "      <td>1959.00000</td>\n",
              "      <td>0.000000</td>\n",
              "      <td>0.000000</td>\n",
              "      <td>2013-01-16 00:00:00</td>\n",
              "      <td>25.000000</td>\n",
              "      <td>23.000000</td>\n",
              "      <td>1.000000</td>\n",
              "      <td>15.750000</td>\n",
              "      <td>3.000000</td>\n",
              "      <td>...</td>\n",
              "      <td>0.000000</td>\n",
              "      <td>3.000000</td>\n",
              "      <td>4.000000</td>\n",
              "      <td>0.000000</td>\n",
              "      <td>0.000000</td>\n",
              "      <td>0.000000</td>\n",
              "      <td>0.000000</td>\n",
              "      <td>0.000000</td>\n",
              "      <td>0.000000</td>\n",
              "      <td>0.000000</td>\n",
              "    </tr>\n",
              "    <tr>\n",
              "      <th>50%</th>\n",
              "      <td>5482.500000</td>\n",
              "      <td>1970.00000</td>\n",
              "      <td>0.000000</td>\n",
              "      <td>0.000000</td>\n",
              "      <td>2013-07-06 12:00:00</td>\n",
              "      <td>50.000000</td>\n",
              "      <td>173.000000</td>\n",
              "      <td>8.000000</td>\n",
              "      <td>67.000000</td>\n",
              "      <td>12.000000</td>\n",
              "      <td>...</td>\n",
              "      <td>2.000000</td>\n",
              "      <td>5.000000</td>\n",
              "      <td>6.000000</td>\n",
              "      <td>0.000000</td>\n",
              "      <td>0.000000</td>\n",
              "      <td>0.000000</td>\n",
              "      <td>0.000000</td>\n",
              "      <td>0.000000</td>\n",
              "      <td>0.000000</td>\n",
              "      <td>0.000000</td>\n",
              "    </tr>\n",
              "    <tr>\n",
              "      <th>75%</th>\n",
              "      <td>8395.500000</td>\n",
              "      <td>1978.00000</td>\n",
              "      <td>1.000000</td>\n",
              "      <td>1.000000</td>\n",
              "      <td>2013-12-30 00:00:00</td>\n",
              "      <td>74.000000</td>\n",
              "      <td>502.000000</td>\n",
              "      <td>33.000000</td>\n",
              "      <td>238.250000</td>\n",
              "      <td>50.000000</td>\n",
              "      <td>...</td>\n",
              "      <td>4.000000</td>\n",
              "      <td>8.000000</td>\n",
              "      <td>7.000000</td>\n",
              "      <td>0.000000</td>\n",
              "      <td>0.000000</td>\n",
              "      <td>0.000000</td>\n",
              "      <td>0.000000</td>\n",
              "      <td>0.000000</td>\n",
              "      <td>0.000000</td>\n",
              "      <td>0.000000</td>\n",
              "    </tr>\n",
              "    <tr>\n",
              "      <th>max</th>\n",
              "      <td>11191.000000</td>\n",
              "      <td>1996.00000</td>\n",
              "      <td>2.000000</td>\n",
              "      <td>2.000000</td>\n",
              "      <td>2014-06-29 00:00:00</td>\n",
              "      <td>99.000000</td>\n",
              "      <td>1493.000000</td>\n",
              "      <td>199.000000</td>\n",
              "      <td>1725.000000</td>\n",
              "      <td>259.000000</td>\n",
              "      <td>...</td>\n",
              "      <td>28.000000</td>\n",
              "      <td>13.000000</td>\n",
              "      <td>20.000000</td>\n",
              "      <td>1.000000</td>\n",
              "      <td>1.000000</td>\n",
              "      <td>1.000000</td>\n",
              "      <td>1.000000</td>\n",
              "      <td>1.000000</td>\n",
              "      <td>1.000000</td>\n",
              "      <td>1.000000</td>\n",
              "    </tr>\n",
              "    <tr>\n",
              "      <th>std</th>\n",
              "      <td>3233.295405</td>\n",
              "      <td>12.04183</td>\n",
              "      <td>0.537720</td>\n",
              "      <td>0.543363</td>\n",
              "      <td>NaN</td>\n",
              "      <td>28.896182</td>\n",
              "      <td>336.048626</td>\n",
              "      <td>39.681471</td>\n",
              "      <td>228.079421</td>\n",
              "      <td>54.903916</td>\n",
              "      <td>...</td>\n",
              "      <td>2.942352</td>\n",
              "      <td>3.251828</td>\n",
              "      <td>2.332178</td>\n",
              "      <td>0.260703</td>\n",
              "      <td>0.262998</td>\n",
              "      <td>0.259158</td>\n",
              "      <td>0.246318</td>\n",
              "      <td>0.115967</td>\n",
              "      <td>0.356139</td>\n",
              "      <td>0.089043</td>\n",
              "    </tr>\n",
              "  </tbody>\n",
              "</table>\n",
              "<p>8 rows × 24 columns</p>\n",
              "</div>\n",
              "    <div class=\"colab-df-buttons\">\n",
              "\n",
              "  <div class=\"colab-df-container\">\n",
              "    <button class=\"colab-df-convert\" onclick=\"convertToInteractive('df-f22cb4e2-9207-4c3c-a2b9-376ad6fbbc19')\"\n",
              "            title=\"Convert this dataframe to an interactive table.\"\n",
              "            style=\"display:none;\">\n",
              "\n",
              "  <svg xmlns=\"http://www.w3.org/2000/svg\" height=\"24px\" viewBox=\"0 -960 960 960\">\n",
              "    <path d=\"M120-120v-720h720v720H120Zm60-500h600v-160H180v160Zm220 220h160v-160H400v160Zm0 220h160v-160H400v160ZM180-400h160v-160H180v160Zm440 0h160v-160H620v160ZM180-180h160v-160H180v160Zm440 0h160v-160H620v160Z\"/>\n",
              "  </svg>\n",
              "    </button>\n",
              "\n",
              "  <style>\n",
              "    .colab-df-container {\n",
              "      display:flex;\n",
              "      gap: 12px;\n",
              "    }\n",
              "\n",
              "    .colab-df-convert {\n",
              "      background-color: #E8F0FE;\n",
              "      border: none;\n",
              "      border-radius: 50%;\n",
              "      cursor: pointer;\n",
              "      display: none;\n",
              "      fill: #1967D2;\n",
              "      height: 32px;\n",
              "      padding: 0 0 0 0;\n",
              "      width: 32px;\n",
              "    }\n",
              "\n",
              "    .colab-df-convert:hover {\n",
              "      background-color: #E2EBFA;\n",
              "      box-shadow: 0px 1px 2px rgba(60, 64, 67, 0.3), 0px 1px 3px 1px rgba(60, 64, 67, 0.15);\n",
              "      fill: #174EA6;\n",
              "    }\n",
              "\n",
              "    .colab-df-buttons div {\n",
              "      margin-bottom: 4px;\n",
              "    }\n",
              "\n",
              "    [theme=dark] .colab-df-convert {\n",
              "      background-color: #3B4455;\n",
              "      fill: #D2E3FC;\n",
              "    }\n",
              "\n",
              "    [theme=dark] .colab-df-convert:hover {\n",
              "      background-color: #434B5C;\n",
              "      box-shadow: 0px 1px 3px 1px rgba(0, 0, 0, 0.15);\n",
              "      filter: drop-shadow(0px 1px 2px rgba(0, 0, 0, 0.3));\n",
              "      fill: #FFFFFF;\n",
              "    }\n",
              "  </style>\n",
              "\n",
              "    <script>\n",
              "      const buttonEl =\n",
              "        document.querySelector('#df-f22cb4e2-9207-4c3c-a2b9-376ad6fbbc19 button.colab-df-convert');\n",
              "      buttonEl.style.display =\n",
              "        google.colab.kernel.accessAllowed ? 'block' : 'none';\n",
              "\n",
              "      async function convertToInteractive(key) {\n",
              "        const element = document.querySelector('#df-f22cb4e2-9207-4c3c-a2b9-376ad6fbbc19');\n",
              "        const dataTable =\n",
              "          await google.colab.kernel.invokeFunction('convertToInteractive',\n",
              "                                                    [key], {});\n",
              "        if (!dataTable) return;\n",
              "\n",
              "        const docLinkHtml = 'Like what you see? Visit the ' +\n",
              "          '<a target=\"_blank\" href=https://colab.research.google.com/notebooks/data_table.ipynb>data table notebook</a>'\n",
              "          + ' to learn more about interactive tables.';\n",
              "        element.innerHTML = '';\n",
              "        dataTable['output_type'] = 'display_data';\n",
              "        await google.colab.output.renderOutput(dataTable, element);\n",
              "        const docLink = document.createElement('div');\n",
              "        docLink.innerHTML = docLinkHtml;\n",
              "        element.appendChild(docLink);\n",
              "      }\n",
              "    </script>\n",
              "  </div>\n",
              "\n",
              "\n",
              "<div id=\"df-cd19926d-992d-4e2a-960c-473e09646af0\">\n",
              "  <button class=\"colab-df-quickchart\" onclick=\"quickchart('df-cd19926d-992d-4e2a-960c-473e09646af0')\"\n",
              "            title=\"Suggest charts\"\n",
              "            style=\"display:none;\">\n",
              "\n",
              "<svg xmlns=\"http://www.w3.org/2000/svg\" height=\"24px\"viewBox=\"0 0 24 24\"\n",
              "     width=\"24px\">\n",
              "    <g>\n",
              "        <path d=\"M19 3H5c-1.1 0-2 .9-2 2v14c0 1.1.9 2 2 2h14c1.1 0 2-.9 2-2V5c0-1.1-.9-2-2-2zM9 17H7v-7h2v7zm4 0h-2V7h2v10zm4 0h-2v-4h2v4z\"/>\n",
              "    </g>\n",
              "</svg>\n",
              "  </button>\n",
              "\n",
              "<style>\n",
              "  .colab-df-quickchart {\n",
              "      --bg-color: #E8F0FE;\n",
              "      --fill-color: #1967D2;\n",
              "      --hover-bg-color: #E2EBFA;\n",
              "      --hover-fill-color: #174EA6;\n",
              "      --disabled-fill-color: #AAA;\n",
              "      --disabled-bg-color: #DDD;\n",
              "  }\n",
              "\n",
              "  [theme=dark] .colab-df-quickchart {\n",
              "      --bg-color: #3B4455;\n",
              "      --fill-color: #D2E3FC;\n",
              "      --hover-bg-color: #434B5C;\n",
              "      --hover-fill-color: #FFFFFF;\n",
              "      --disabled-bg-color: #3B4455;\n",
              "      --disabled-fill-color: #666;\n",
              "  }\n",
              "\n",
              "  .colab-df-quickchart {\n",
              "    background-color: var(--bg-color);\n",
              "    border: none;\n",
              "    border-radius: 50%;\n",
              "    cursor: pointer;\n",
              "    display: none;\n",
              "    fill: var(--fill-color);\n",
              "    height: 32px;\n",
              "    padding: 0;\n",
              "    width: 32px;\n",
              "  }\n",
              "\n",
              "  .colab-df-quickchart:hover {\n",
              "    background-color: var(--hover-bg-color);\n",
              "    box-shadow: 0 1px 2px rgba(60, 64, 67, 0.3), 0 1px 3px 1px rgba(60, 64, 67, 0.15);\n",
              "    fill: var(--button-hover-fill-color);\n",
              "  }\n",
              "\n",
              "  .colab-df-quickchart-complete:disabled,\n",
              "  .colab-df-quickchart-complete:disabled:hover {\n",
              "    background-color: var(--disabled-bg-color);\n",
              "    fill: var(--disabled-fill-color);\n",
              "    box-shadow: none;\n",
              "  }\n",
              "\n",
              "  .colab-df-spinner {\n",
              "    border: 2px solid var(--fill-color);\n",
              "    border-color: transparent;\n",
              "    border-bottom-color: var(--fill-color);\n",
              "    animation:\n",
              "      spin 1s steps(1) infinite;\n",
              "  }\n",
              "\n",
              "  @keyframes spin {\n",
              "    0% {\n",
              "      border-color: transparent;\n",
              "      border-bottom-color: var(--fill-color);\n",
              "      border-left-color: var(--fill-color);\n",
              "    }\n",
              "    20% {\n",
              "      border-color: transparent;\n",
              "      border-left-color: var(--fill-color);\n",
              "      border-top-color: var(--fill-color);\n",
              "    }\n",
              "    30% {\n",
              "      border-color: transparent;\n",
              "      border-left-color: var(--fill-color);\n",
              "      border-top-color: var(--fill-color);\n",
              "      border-right-color: var(--fill-color);\n",
              "    }\n",
              "    40% {\n",
              "      border-color: transparent;\n",
              "      border-right-color: var(--fill-color);\n",
              "      border-top-color: var(--fill-color);\n",
              "    }\n",
              "    60% {\n",
              "      border-color: transparent;\n",
              "      border-right-color: var(--fill-color);\n",
              "    }\n",
              "    80% {\n",
              "      border-color: transparent;\n",
              "      border-right-color: var(--fill-color);\n",
              "      border-bottom-color: var(--fill-color);\n",
              "    }\n",
              "    90% {\n",
              "      border-color: transparent;\n",
              "      border-bottom-color: var(--fill-color);\n",
              "    }\n",
              "  }\n",
              "</style>\n",
              "\n",
              "  <script>\n",
              "    async function quickchart(key) {\n",
              "      const quickchartButtonEl =\n",
              "        document.querySelector('#' + key + ' button');\n",
              "      quickchartButtonEl.disabled = true;  // To prevent multiple clicks.\n",
              "      quickchartButtonEl.classList.add('colab-df-spinner');\n",
              "      try {\n",
              "        const charts = await google.colab.kernel.invokeFunction(\n",
              "            'suggestCharts', [key], {});\n",
              "      } catch (error) {\n",
              "        console.error('Error during call to suggestCharts:', error);\n",
              "      }\n",
              "      quickchartButtonEl.classList.remove('colab-df-spinner');\n",
              "      quickchartButtonEl.classList.add('colab-df-quickchart-complete');\n",
              "    }\n",
              "    (() => {\n",
              "      let quickchartButtonEl =\n",
              "        document.querySelector('#df-cd19926d-992d-4e2a-960c-473e09646af0 button');\n",
              "      quickchartButtonEl.style.display =\n",
              "        google.colab.kernel.accessAllowed ? 'block' : 'none';\n",
              "    })();\n",
              "  </script>\n",
              "</div>\n",
              "\n",
              "    </div>\n",
              "  </div>\n"
            ],
            "application/vnd.google.colaboratory.intrinsic+json": {
              "type": "dataframe"
            }
          },
          "metadata": {},
          "execution_count": 10
        }
      ]
    },
    {
      "cell_type": "markdown",
      "source": [
        "There are some outliers in the data, which may negatively impact the performance of our Machine Learning model. Therefore, they must be identified and carefully removed or handled to ensure better model accuracy and reliability."
      ],
      "metadata": {
        "id": "MV-02ENhlZQm"
      }
    },
    {
      "cell_type": "markdown",
      "source": [
        "**Save Cleaned data**"
      ],
      "metadata": {
        "id": "MmaHrty63wdw"
      }
    },
    {
      "cell_type": "code",
      "source": [
        "df.to_csv(\"cleaned_marketing_campaign.csv\", index=False)"
      ],
      "metadata": {
        "id": "pAZQjp0x3tND"
      },
      "execution_count": null,
      "outputs": []
    },
    {
      "cell_type": "markdown",
      "source": [
        "## **Removing outliers**"
      ],
      "metadata": {
        "id": "NOw-Sd1JRJZs"
      }
    },
    {
      "cell_type": "markdown",
      "source": [
        "Coding a function to automatically remove the outliers in each columns"
      ],
      "metadata": {
        "id": "uNnYtXROA4p2"
      }
    },
    {
      "cell_type": "code",
      "source": [
        "def remove_outliers(df, col_name, threshold=1.5):\n",
        "    Q1 = df[col_name].quantile(0.25)\n",
        "    Q3 = df[col_name].quantile(0.75)\n",
        "    IQR = Q3 - Q1\n",
        "    lower_bound = Q1 - threshold * IQR\n",
        "    upper_bound = Q3 + threshold * IQR\n",
        "    con1 = df[col_name] >= lower_bound\n",
        "    con2 = df[col_name] <= upper_bound\n",
        "    return df[con1 & con2]"
      ],
      "metadata": {
        "id": "YaI6mrloO4Oz"
      },
      "execution_count": null,
      "outputs": []
    },
    {
      "cell_type": "markdown",
      "source": [
        "Filter out numeric columns"
      ],
      "metadata": {
        "id": "7LbByQG0BA5P"
      }
    },
    {
      "cell_type": "code",
      "source": [
        "numeric_columns = list(df.select_dtypes(include=['number']).columns)\n",
        "numeric_columns"
      ],
      "metadata": {
        "colab": {
          "base_uri": "https://localhost:8080/"
        },
        "id": "fk--67_XRMZJ",
        "outputId": "9017e18b-daae-4478-c2bb-fb3b107b32a8"
      },
      "execution_count": null,
      "outputs": [
        {
          "output_type": "execute_result",
          "data": {
            "text/plain": [
              "['ID',\n",
              " 'Year_Birth',\n",
              " 'Kidhome',\n",
              " 'Teenhome',\n",
              " 'Recency',\n",
              " 'MntWines',\n",
              " 'MntFruits',\n",
              " 'MntMeatProducts',\n",
              " 'MntFishProducts',\n",
              " 'MntSweetProducts',\n",
              " 'MntGoldProds',\n",
              " 'NumDealsPurchases',\n",
              " 'NumWebPurchases',\n",
              " 'NumCatalogPurchases',\n",
              " 'NumStorePurchases',\n",
              " 'NumWebVisitsMonth',\n",
              " 'AcceptedCmp3',\n",
              " 'AcceptedCmp4',\n",
              " 'AcceptedCmp5',\n",
              " 'AcceptedCmp1',\n",
              " 'AcceptedCmp2',\n",
              " 'Response',\n",
              " 'Complain']"
            ]
          },
          "metadata": {},
          "execution_count": 13
        }
      ]
    },
    {
      "cell_type": "markdown",
      "source": [
        "Using for loop to iterate through numeric column and do the removing process"
      ],
      "metadata": {
        "id": "VuK8qxghBEHG"
      }
    },
    {
      "cell_type": "code",
      "source": [
        "for col in numeric_columns:\n",
        "    df = remove_outliers(df, col)\n",
        "\n",
        "df.info()"
      ],
      "metadata": {
        "colab": {
          "base_uri": "https://localhost:8080/"
        },
        "id": "BuAzxFKbRqeW",
        "outputId": "879295d8-1a86-43f0-dfdd-11218f7228eb"
      },
      "execution_count": null,
      "outputs": [
        {
          "output_type": "stream",
          "name": "stdout",
          "text": [
            "<class 'pandas.core.frame.DataFrame'>\n",
            "Index: 788 entries, 6 to 2125\n",
            "Data columns (total 28 columns):\n",
            " #   Column               Non-Null Count  Dtype         \n",
            "---  ------               --------------  -----         \n",
            " 0   ID                   788 non-null    int64         \n",
            " 1   Year_Birth           788 non-null    int64         \n",
            " 2   Education            788 non-null    object        \n",
            " 3   Marital_Status       788 non-null    object        \n",
            " 4   Income               788 non-null    object        \n",
            " 5   Kidhome              788 non-null    int64         \n",
            " 6   Teenhome             788 non-null    int64         \n",
            " 7   Dt_Customer          788 non-null    datetime64[ns]\n",
            " 8   Recency              788 non-null    int64         \n",
            " 9   MntWines             788 non-null    int64         \n",
            " 10  MntFruits            788 non-null    int64         \n",
            " 11  MntMeatProducts      788 non-null    int64         \n",
            " 12  MntFishProducts      788 non-null    int64         \n",
            " 13  MntSweetProducts     788 non-null    int64         \n",
            " 14  MntGoldProds         788 non-null    int64         \n",
            " 15  NumDealsPurchases    788 non-null    int64         \n",
            " 16  NumWebPurchases      788 non-null    int64         \n",
            " 17  NumCatalogPurchases  788 non-null    int64         \n",
            " 18  NumStorePurchases    788 non-null    int64         \n",
            " 19  NumWebVisitsMonth    788 non-null    float64       \n",
            " 20  AcceptedCmp3         788 non-null    int64         \n",
            " 21  AcceptedCmp4         788 non-null    int64         \n",
            " 22  AcceptedCmp5         788 non-null    int64         \n",
            " 23  AcceptedCmp1         788 non-null    int64         \n",
            " 24  AcceptedCmp2         788 non-null    int64         \n",
            " 25  Response             788 non-null    int64         \n",
            " 26  Complain             788 non-null    int64         \n",
            " 27  Country              788 non-null    object        \n",
            "dtypes: datetime64[ns](1), float64(1), int64(22), object(4)\n",
            "memory usage: 178.5+ KB\n"
          ]
        }
      ]
    },
    {
      "cell_type": "markdown",
      "source": [
        "# **6) EDA Process**"
      ],
      "metadata": {
        "id": "HwDIkbEOUBUA"
      }
    },
    {
      "cell_type": "markdown",
      "source": [
        "## **What caused the increase in the number of products purchased?**"
      ],
      "metadata": {
        "id": "KgLxV9LueTHJ"
      }
    },
    {
      "cell_type": "markdown",
      "source": [
        "Focus on products, such as:\n",
        "+ Wines => `MntWines`\n",
        "+ Fruits => `MntFruits`\n",
        "+ Meat => `MntMeatProducts`\n",
        "+ Fish => `MntFishProducts`\n",
        "+ Sweet => `MntSweetProducts`\n",
        "+ Gold => `MntGoldProds`"
      ],
      "metadata": {
        "id": "CdZZhBZgeiQ4"
      }
    },
    {
      "cell_type": "markdown",
      "source": [
        "### **Create a correlation matrix**"
      ],
      "metadata": {
        "id": "vxXtEXEWedbe"
      }
    },
    {
      "cell_type": "markdown",
      "source": [
        "I basically do this to understand the correlation between columns"
      ],
      "metadata": {
        "id": "QK5d3taUBLUu"
      }
    },
    {
      "cell_type": "code",
      "source": [
        "corr_matrix = df[numeric_columns].corr()\n",
        "corr_matrix"
      ],
      "metadata": {
        "colab": {
          "base_uri": "https://localhost:8080/",
          "height": 820
        },
        "id": "sJ-Zs7yRYWXx",
        "outputId": "ee08b19a-2824-4cfd-b3c9-e4f0ae3bb7c0"
      },
      "execution_count": null,
      "outputs": [
        {
          "output_type": "execute_result",
          "data": {
            "text/plain": [
              "                           ID  Year_Birth   Kidhome  Teenhome   Recency  \\\n",
              "ID                   1.000000    0.017223  0.024473 -0.019466 -0.051512   \n",
              "Year_Birth           0.017223    1.000000  0.169733 -0.570483 -0.004043   \n",
              "Kidhome              0.024473    0.169733  1.000000 -0.063455  0.081489   \n",
              "Teenhome            -0.019466   -0.570483 -0.063455  1.000000 -0.043323   \n",
              "Recency             -0.051512   -0.004043  0.081489 -0.043323  1.000000   \n",
              "MntWines            -0.026966   -0.305885 -0.273132  0.330213 -0.014420   \n",
              "MntFruits           -0.073115    0.103642 -0.120682 -0.191557  0.080614   \n",
              "MntMeatProducts     -0.052918   -0.051512 -0.100409  0.017891  0.111661   \n",
              "MntFishProducts     -0.103967    0.142505 -0.103435 -0.227865  0.039918   \n",
              "MntSweetProducts    -0.074528    0.135008 -0.103260 -0.219969  0.109854   \n",
              "MntGoldProds        -0.089337   -0.042626 -0.150904 -0.004947  0.108315   \n",
              "NumDealsPurchases   -0.000350   -0.105294  0.190574  0.250758  0.088288   \n",
              "NumWebPurchases     -0.028071   -0.118842 -0.132715  0.088209  0.050833   \n",
              "NumCatalogPurchases -0.031931   -0.174845 -0.188142  0.128770  0.102939   \n",
              "NumStorePurchases   -0.082652   -0.143923 -0.237492  0.194953  0.005055   \n",
              "NumWebVisitsMonth    0.046857    0.143470  0.144319 -0.209269  0.030245   \n",
              "AcceptedCmp3              NaN         NaN       NaN       NaN       NaN   \n",
              "AcceptedCmp4              NaN         NaN       NaN       NaN       NaN   \n",
              "AcceptedCmp5              NaN         NaN       NaN       NaN       NaN   \n",
              "AcceptedCmp1              NaN         NaN       NaN       NaN       NaN   \n",
              "AcceptedCmp2              NaN         NaN       NaN       NaN       NaN   \n",
              "Response                  NaN         NaN       NaN       NaN       NaN   \n",
              "Complain                  NaN         NaN       NaN       NaN       NaN   \n",
              "\n",
              "                     MntWines  MntFruits  MntMeatProducts  MntFishProducts  \\\n",
              "ID                  -0.026966  -0.073115        -0.052918        -0.103967   \n",
              "Year_Birth          -0.305885   0.103642        -0.051512         0.142505   \n",
              "Kidhome             -0.273132  -0.120682        -0.100409        -0.103435   \n",
              "Teenhome             0.330213  -0.191557         0.017891        -0.227865   \n",
              "Recency             -0.014420   0.080614         0.111661         0.039918   \n",
              "MntWines             1.000000   0.045481         0.531837         0.021128   \n",
              "MntFruits            0.045481   1.000000         0.359588         0.477459   \n",
              "MntMeatProducts      0.531837   0.359588         1.000000         0.430368   \n",
              "MntFishProducts      0.021128   0.477459         0.430368         1.000000   \n",
              "MntSweetProducts     0.017533   0.583519         0.340973         0.464890   \n",
              "MntGoldProds         0.367578   0.423275         0.437529         0.375238   \n",
              "NumDealsPurchases    0.442428   0.182487         0.451179         0.173931   \n",
              "NumWebPurchases      0.779054   0.284790         0.728632         0.285057   \n",
              "NumCatalogPurchases  0.562265   0.265715         0.492936         0.268459   \n",
              "NumStorePurchases    0.658561   0.315495         0.594105         0.284956   \n",
              "NumWebVisitsMonth    0.010851   0.036682         0.117996         0.019533   \n",
              "AcceptedCmp3              NaN        NaN              NaN              NaN   \n",
              "AcceptedCmp4              NaN        NaN              NaN              NaN   \n",
              "AcceptedCmp5              NaN        NaN              NaN              NaN   \n",
              "AcceptedCmp1              NaN        NaN              NaN              NaN   \n",
              "AcceptedCmp2              NaN        NaN              NaN              NaN   \n",
              "Response                  NaN        NaN              NaN              NaN   \n",
              "Complain                  NaN        NaN              NaN              NaN   \n",
              "\n",
              "                     MntSweetProducts  ...  NumCatalogPurchases  \\\n",
              "ID                          -0.074528  ...            -0.031931   \n",
              "Year_Birth                   0.135008  ...            -0.174845   \n",
              "Kidhome                     -0.103260  ...            -0.188142   \n",
              "Teenhome                    -0.219969  ...             0.128770   \n",
              "Recency                      0.109854  ...             0.102939   \n",
              "MntWines                     0.017533  ...             0.562265   \n",
              "MntFruits                    0.583519  ...             0.265715   \n",
              "MntMeatProducts              0.340973  ...             0.492936   \n",
              "MntFishProducts              0.464890  ...             0.268459   \n",
              "MntSweetProducts             1.000000  ...             0.299636   \n",
              "MntGoldProds                 0.442120  ...             0.568304   \n",
              "NumDealsPurchases            0.179486  ...             0.417302   \n",
              "NumWebPurchases              0.267937  ...             0.476313   \n",
              "NumCatalogPurchases          0.299636  ...             1.000000   \n",
              "NumStorePurchases            0.282378  ...             0.296170   \n",
              "NumWebVisitsMonth            0.006639  ...            -0.131237   \n",
              "AcceptedCmp3                      NaN  ...                  NaN   \n",
              "AcceptedCmp4                      NaN  ...                  NaN   \n",
              "AcceptedCmp5                      NaN  ...                  NaN   \n",
              "AcceptedCmp1                      NaN  ...                  NaN   \n",
              "AcceptedCmp2                      NaN  ...                  NaN   \n",
              "Response                          NaN  ...                  NaN   \n",
              "Complain                          NaN  ...                  NaN   \n",
              "\n",
              "                     NumStorePurchases  NumWebVisitsMonth  AcceptedCmp3  \\\n",
              "ID                           -0.082652           0.046857           NaN   \n",
              "Year_Birth                   -0.143923           0.143470           NaN   \n",
              "Kidhome                      -0.237492           0.144319           NaN   \n",
              "Teenhome                      0.194953          -0.209269           NaN   \n",
              "Recency                       0.005055           0.030245           NaN   \n",
              "MntWines                      0.658561           0.010851           NaN   \n",
              "MntFruits                     0.315495           0.036682           NaN   \n",
              "MntMeatProducts               0.594105           0.117996           NaN   \n",
              "MntFishProducts               0.284956           0.019533           NaN   \n",
              "MntSweetProducts              0.282378           0.006639           NaN   \n",
              "MntGoldProds                  0.328491           0.020113           NaN   \n",
              "NumDealsPurchases             0.494474           0.120794           NaN   \n",
              "NumWebPurchases               0.600939           0.222642           NaN   \n",
              "NumCatalogPurchases           0.296170          -0.131237           NaN   \n",
              "NumStorePurchases             1.000000          -0.203805           NaN   \n",
              "NumWebVisitsMonth            -0.203805           1.000000           NaN   \n",
              "AcceptedCmp3                       NaN                NaN           NaN   \n",
              "AcceptedCmp4                       NaN                NaN           NaN   \n",
              "AcceptedCmp5                       NaN                NaN           NaN   \n",
              "AcceptedCmp1                       NaN                NaN           NaN   \n",
              "AcceptedCmp2                       NaN                NaN           NaN   \n",
              "Response                           NaN                NaN           NaN   \n",
              "Complain                           NaN                NaN           NaN   \n",
              "\n",
              "                     AcceptedCmp4  AcceptedCmp5  AcceptedCmp1  AcceptedCmp2  \\\n",
              "ID                            NaN           NaN           NaN           NaN   \n",
              "Year_Birth                    NaN           NaN           NaN           NaN   \n",
              "Kidhome                       NaN           NaN           NaN           NaN   \n",
              "Teenhome                      NaN           NaN           NaN           NaN   \n",
              "Recency                       NaN           NaN           NaN           NaN   \n",
              "MntWines                      NaN           NaN           NaN           NaN   \n",
              "MntFruits                     NaN           NaN           NaN           NaN   \n",
              "MntMeatProducts               NaN           NaN           NaN           NaN   \n",
              "MntFishProducts               NaN           NaN           NaN           NaN   \n",
              "MntSweetProducts              NaN           NaN           NaN           NaN   \n",
              "MntGoldProds                  NaN           NaN           NaN           NaN   \n",
              "NumDealsPurchases             NaN           NaN           NaN           NaN   \n",
              "NumWebPurchases               NaN           NaN           NaN           NaN   \n",
              "NumCatalogPurchases           NaN           NaN           NaN           NaN   \n",
              "NumStorePurchases             NaN           NaN           NaN           NaN   \n",
              "NumWebVisitsMonth             NaN           NaN           NaN           NaN   \n",
              "AcceptedCmp3                  NaN           NaN           NaN           NaN   \n",
              "AcceptedCmp4                  NaN           NaN           NaN           NaN   \n",
              "AcceptedCmp5                  NaN           NaN           NaN           NaN   \n",
              "AcceptedCmp1                  NaN           NaN           NaN           NaN   \n",
              "AcceptedCmp2                  NaN           NaN           NaN           NaN   \n",
              "Response                      NaN           NaN           NaN           NaN   \n",
              "Complain                      NaN           NaN           NaN           NaN   \n",
              "\n",
              "                     Response  Complain  \n",
              "ID                        NaN       NaN  \n",
              "Year_Birth                NaN       NaN  \n",
              "Kidhome                   NaN       NaN  \n",
              "Teenhome                  NaN       NaN  \n",
              "Recency                   NaN       NaN  \n",
              "MntWines                  NaN       NaN  \n",
              "MntFruits                 NaN       NaN  \n",
              "MntMeatProducts           NaN       NaN  \n",
              "MntFishProducts           NaN       NaN  \n",
              "MntSweetProducts          NaN       NaN  \n",
              "MntGoldProds              NaN       NaN  \n",
              "NumDealsPurchases         NaN       NaN  \n",
              "NumWebPurchases           NaN       NaN  \n",
              "NumCatalogPurchases       NaN       NaN  \n",
              "NumStorePurchases         NaN       NaN  \n",
              "NumWebVisitsMonth         NaN       NaN  \n",
              "AcceptedCmp3              NaN       NaN  \n",
              "AcceptedCmp4              NaN       NaN  \n",
              "AcceptedCmp5              NaN       NaN  \n",
              "AcceptedCmp1              NaN       NaN  \n",
              "AcceptedCmp2              NaN       NaN  \n",
              "Response                  NaN       NaN  \n",
              "Complain                  NaN       NaN  \n",
              "\n",
              "[23 rows x 23 columns]"
            ],
            "text/html": [
              "\n",
              "  <div id=\"df-ab4b3db1-48a0-41a8-be11-7b5b1a34f184\" class=\"colab-df-container\">\n",
              "    <div>\n",
              "<style scoped>\n",
              "    .dataframe tbody tr th:only-of-type {\n",
              "        vertical-align: middle;\n",
              "    }\n",
              "\n",
              "    .dataframe tbody tr th {\n",
              "        vertical-align: top;\n",
              "    }\n",
              "\n",
              "    .dataframe thead th {\n",
              "        text-align: right;\n",
              "    }\n",
              "</style>\n",
              "<table border=\"1\" class=\"dataframe\">\n",
              "  <thead>\n",
              "    <tr style=\"text-align: right;\">\n",
              "      <th></th>\n",
              "      <th>ID</th>\n",
              "      <th>Year_Birth</th>\n",
              "      <th>Kidhome</th>\n",
              "      <th>Teenhome</th>\n",
              "      <th>Recency</th>\n",
              "      <th>MntWines</th>\n",
              "      <th>MntFruits</th>\n",
              "      <th>MntMeatProducts</th>\n",
              "      <th>MntFishProducts</th>\n",
              "      <th>MntSweetProducts</th>\n",
              "      <th>...</th>\n",
              "      <th>NumCatalogPurchases</th>\n",
              "      <th>NumStorePurchases</th>\n",
              "      <th>NumWebVisitsMonth</th>\n",
              "      <th>AcceptedCmp3</th>\n",
              "      <th>AcceptedCmp4</th>\n",
              "      <th>AcceptedCmp5</th>\n",
              "      <th>AcceptedCmp1</th>\n",
              "      <th>AcceptedCmp2</th>\n",
              "      <th>Response</th>\n",
              "      <th>Complain</th>\n",
              "    </tr>\n",
              "  </thead>\n",
              "  <tbody>\n",
              "    <tr>\n",
              "      <th>ID</th>\n",
              "      <td>1.000000</td>\n",
              "      <td>0.017223</td>\n",
              "      <td>0.024473</td>\n",
              "      <td>-0.019466</td>\n",
              "      <td>-0.051512</td>\n",
              "      <td>-0.026966</td>\n",
              "      <td>-0.073115</td>\n",
              "      <td>-0.052918</td>\n",
              "      <td>-0.103967</td>\n",
              "      <td>-0.074528</td>\n",
              "      <td>...</td>\n",
              "      <td>-0.031931</td>\n",
              "      <td>-0.082652</td>\n",
              "      <td>0.046857</td>\n",
              "      <td>NaN</td>\n",
              "      <td>NaN</td>\n",
              "      <td>NaN</td>\n",
              "      <td>NaN</td>\n",
              "      <td>NaN</td>\n",
              "      <td>NaN</td>\n",
              "      <td>NaN</td>\n",
              "    </tr>\n",
              "    <tr>\n",
              "      <th>Year_Birth</th>\n",
              "      <td>0.017223</td>\n",
              "      <td>1.000000</td>\n",
              "      <td>0.169733</td>\n",
              "      <td>-0.570483</td>\n",
              "      <td>-0.004043</td>\n",
              "      <td>-0.305885</td>\n",
              "      <td>0.103642</td>\n",
              "      <td>-0.051512</td>\n",
              "      <td>0.142505</td>\n",
              "      <td>0.135008</td>\n",
              "      <td>...</td>\n",
              "      <td>-0.174845</td>\n",
              "      <td>-0.143923</td>\n",
              "      <td>0.143470</td>\n",
              "      <td>NaN</td>\n",
              "      <td>NaN</td>\n",
              "      <td>NaN</td>\n",
              "      <td>NaN</td>\n",
              "      <td>NaN</td>\n",
              "      <td>NaN</td>\n",
              "      <td>NaN</td>\n",
              "    </tr>\n",
              "    <tr>\n",
              "      <th>Kidhome</th>\n",
              "      <td>0.024473</td>\n",
              "      <td>0.169733</td>\n",
              "      <td>1.000000</td>\n",
              "      <td>-0.063455</td>\n",
              "      <td>0.081489</td>\n",
              "      <td>-0.273132</td>\n",
              "      <td>-0.120682</td>\n",
              "      <td>-0.100409</td>\n",
              "      <td>-0.103435</td>\n",
              "      <td>-0.103260</td>\n",
              "      <td>...</td>\n",
              "      <td>-0.188142</td>\n",
              "      <td>-0.237492</td>\n",
              "      <td>0.144319</td>\n",
              "      <td>NaN</td>\n",
              "      <td>NaN</td>\n",
              "      <td>NaN</td>\n",
              "      <td>NaN</td>\n",
              "      <td>NaN</td>\n",
              "      <td>NaN</td>\n",
              "      <td>NaN</td>\n",
              "    </tr>\n",
              "    <tr>\n",
              "      <th>Teenhome</th>\n",
              "      <td>-0.019466</td>\n",
              "      <td>-0.570483</td>\n",
              "      <td>-0.063455</td>\n",
              "      <td>1.000000</td>\n",
              "      <td>-0.043323</td>\n",
              "      <td>0.330213</td>\n",
              "      <td>-0.191557</td>\n",
              "      <td>0.017891</td>\n",
              "      <td>-0.227865</td>\n",
              "      <td>-0.219969</td>\n",
              "      <td>...</td>\n",
              "      <td>0.128770</td>\n",
              "      <td>0.194953</td>\n",
              "      <td>-0.209269</td>\n",
              "      <td>NaN</td>\n",
              "      <td>NaN</td>\n",
              "      <td>NaN</td>\n",
              "      <td>NaN</td>\n",
              "      <td>NaN</td>\n",
              "      <td>NaN</td>\n",
              "      <td>NaN</td>\n",
              "    </tr>\n",
              "    <tr>\n",
              "      <th>Recency</th>\n",
              "      <td>-0.051512</td>\n",
              "      <td>-0.004043</td>\n",
              "      <td>0.081489</td>\n",
              "      <td>-0.043323</td>\n",
              "      <td>1.000000</td>\n",
              "      <td>-0.014420</td>\n",
              "      <td>0.080614</td>\n",
              "      <td>0.111661</td>\n",
              "      <td>0.039918</td>\n",
              "      <td>0.109854</td>\n",
              "      <td>...</td>\n",
              "      <td>0.102939</td>\n",
              "      <td>0.005055</td>\n",
              "      <td>0.030245</td>\n",
              "      <td>NaN</td>\n",
              "      <td>NaN</td>\n",
              "      <td>NaN</td>\n",
              "      <td>NaN</td>\n",
              "      <td>NaN</td>\n",
              "      <td>NaN</td>\n",
              "      <td>NaN</td>\n",
              "    </tr>\n",
              "    <tr>\n",
              "      <th>MntWines</th>\n",
              "      <td>-0.026966</td>\n",
              "      <td>-0.305885</td>\n",
              "      <td>-0.273132</td>\n",
              "      <td>0.330213</td>\n",
              "      <td>-0.014420</td>\n",
              "      <td>1.000000</td>\n",
              "      <td>0.045481</td>\n",
              "      <td>0.531837</td>\n",
              "      <td>0.021128</td>\n",
              "      <td>0.017533</td>\n",
              "      <td>...</td>\n",
              "      <td>0.562265</td>\n",
              "      <td>0.658561</td>\n",
              "      <td>0.010851</td>\n",
              "      <td>NaN</td>\n",
              "      <td>NaN</td>\n",
              "      <td>NaN</td>\n",
              "      <td>NaN</td>\n",
              "      <td>NaN</td>\n",
              "      <td>NaN</td>\n",
              "      <td>NaN</td>\n",
              "    </tr>\n",
              "    <tr>\n",
              "      <th>MntFruits</th>\n",
              "      <td>-0.073115</td>\n",
              "      <td>0.103642</td>\n",
              "      <td>-0.120682</td>\n",
              "      <td>-0.191557</td>\n",
              "      <td>0.080614</td>\n",
              "      <td>0.045481</td>\n",
              "      <td>1.000000</td>\n",
              "      <td>0.359588</td>\n",
              "      <td>0.477459</td>\n",
              "      <td>0.583519</td>\n",
              "      <td>...</td>\n",
              "      <td>0.265715</td>\n",
              "      <td>0.315495</td>\n",
              "      <td>0.036682</td>\n",
              "      <td>NaN</td>\n",
              "      <td>NaN</td>\n",
              "      <td>NaN</td>\n",
              "      <td>NaN</td>\n",
              "      <td>NaN</td>\n",
              "      <td>NaN</td>\n",
              "      <td>NaN</td>\n",
              "    </tr>\n",
              "    <tr>\n",
              "      <th>MntMeatProducts</th>\n",
              "      <td>-0.052918</td>\n",
              "      <td>-0.051512</td>\n",
              "      <td>-0.100409</td>\n",
              "      <td>0.017891</td>\n",
              "      <td>0.111661</td>\n",
              "      <td>0.531837</td>\n",
              "      <td>0.359588</td>\n",
              "      <td>1.000000</td>\n",
              "      <td>0.430368</td>\n",
              "      <td>0.340973</td>\n",
              "      <td>...</td>\n",
              "      <td>0.492936</td>\n",
              "      <td>0.594105</td>\n",
              "      <td>0.117996</td>\n",
              "      <td>NaN</td>\n",
              "      <td>NaN</td>\n",
              "      <td>NaN</td>\n",
              "      <td>NaN</td>\n",
              "      <td>NaN</td>\n",
              "      <td>NaN</td>\n",
              "      <td>NaN</td>\n",
              "    </tr>\n",
              "    <tr>\n",
              "      <th>MntFishProducts</th>\n",
              "      <td>-0.103967</td>\n",
              "      <td>0.142505</td>\n",
              "      <td>-0.103435</td>\n",
              "      <td>-0.227865</td>\n",
              "      <td>0.039918</td>\n",
              "      <td>0.021128</td>\n",
              "      <td>0.477459</td>\n",
              "      <td>0.430368</td>\n",
              "      <td>1.000000</td>\n",
              "      <td>0.464890</td>\n",
              "      <td>...</td>\n",
              "      <td>0.268459</td>\n",
              "      <td>0.284956</td>\n",
              "      <td>0.019533</td>\n",
              "      <td>NaN</td>\n",
              "      <td>NaN</td>\n",
              "      <td>NaN</td>\n",
              "      <td>NaN</td>\n",
              "      <td>NaN</td>\n",
              "      <td>NaN</td>\n",
              "      <td>NaN</td>\n",
              "    </tr>\n",
              "    <tr>\n",
              "      <th>MntSweetProducts</th>\n",
              "      <td>-0.074528</td>\n",
              "      <td>0.135008</td>\n",
              "      <td>-0.103260</td>\n",
              "      <td>-0.219969</td>\n",
              "      <td>0.109854</td>\n",
              "      <td>0.017533</td>\n",
              "      <td>0.583519</td>\n",
              "      <td>0.340973</td>\n",
              "      <td>0.464890</td>\n",
              "      <td>1.000000</td>\n",
              "      <td>...</td>\n",
              "      <td>0.299636</td>\n",
              "      <td>0.282378</td>\n",
              "      <td>0.006639</td>\n",
              "      <td>NaN</td>\n",
              "      <td>NaN</td>\n",
              "      <td>NaN</td>\n",
              "      <td>NaN</td>\n",
              "      <td>NaN</td>\n",
              "      <td>NaN</td>\n",
              "      <td>NaN</td>\n",
              "    </tr>\n",
              "    <tr>\n",
              "      <th>MntGoldProds</th>\n",
              "      <td>-0.089337</td>\n",
              "      <td>-0.042626</td>\n",
              "      <td>-0.150904</td>\n",
              "      <td>-0.004947</td>\n",
              "      <td>0.108315</td>\n",
              "      <td>0.367578</td>\n",
              "      <td>0.423275</td>\n",
              "      <td>0.437529</td>\n",
              "      <td>0.375238</td>\n",
              "      <td>0.442120</td>\n",
              "      <td>...</td>\n",
              "      <td>0.568304</td>\n",
              "      <td>0.328491</td>\n",
              "      <td>0.020113</td>\n",
              "      <td>NaN</td>\n",
              "      <td>NaN</td>\n",
              "      <td>NaN</td>\n",
              "      <td>NaN</td>\n",
              "      <td>NaN</td>\n",
              "      <td>NaN</td>\n",
              "      <td>NaN</td>\n",
              "    </tr>\n",
              "    <tr>\n",
              "      <th>NumDealsPurchases</th>\n",
              "      <td>-0.000350</td>\n",
              "      <td>-0.105294</td>\n",
              "      <td>0.190574</td>\n",
              "      <td>0.250758</td>\n",
              "      <td>0.088288</td>\n",
              "      <td>0.442428</td>\n",
              "      <td>0.182487</td>\n",
              "      <td>0.451179</td>\n",
              "      <td>0.173931</td>\n",
              "      <td>0.179486</td>\n",
              "      <td>...</td>\n",
              "      <td>0.417302</td>\n",
              "      <td>0.494474</td>\n",
              "      <td>0.120794</td>\n",
              "      <td>NaN</td>\n",
              "      <td>NaN</td>\n",
              "      <td>NaN</td>\n",
              "      <td>NaN</td>\n",
              "      <td>NaN</td>\n",
              "      <td>NaN</td>\n",
              "      <td>NaN</td>\n",
              "    </tr>\n",
              "    <tr>\n",
              "      <th>NumWebPurchases</th>\n",
              "      <td>-0.028071</td>\n",
              "      <td>-0.118842</td>\n",
              "      <td>-0.132715</td>\n",
              "      <td>0.088209</td>\n",
              "      <td>0.050833</td>\n",
              "      <td>0.779054</td>\n",
              "      <td>0.284790</td>\n",
              "      <td>0.728632</td>\n",
              "      <td>0.285057</td>\n",
              "      <td>0.267937</td>\n",
              "      <td>...</td>\n",
              "      <td>0.476313</td>\n",
              "      <td>0.600939</td>\n",
              "      <td>0.222642</td>\n",
              "      <td>NaN</td>\n",
              "      <td>NaN</td>\n",
              "      <td>NaN</td>\n",
              "      <td>NaN</td>\n",
              "      <td>NaN</td>\n",
              "      <td>NaN</td>\n",
              "      <td>NaN</td>\n",
              "    </tr>\n",
              "    <tr>\n",
              "      <th>NumCatalogPurchases</th>\n",
              "      <td>-0.031931</td>\n",
              "      <td>-0.174845</td>\n",
              "      <td>-0.188142</td>\n",
              "      <td>0.128770</td>\n",
              "      <td>0.102939</td>\n",
              "      <td>0.562265</td>\n",
              "      <td>0.265715</td>\n",
              "      <td>0.492936</td>\n",
              "      <td>0.268459</td>\n",
              "      <td>0.299636</td>\n",
              "      <td>...</td>\n",
              "      <td>1.000000</td>\n",
              "      <td>0.296170</td>\n",
              "      <td>-0.131237</td>\n",
              "      <td>NaN</td>\n",
              "      <td>NaN</td>\n",
              "      <td>NaN</td>\n",
              "      <td>NaN</td>\n",
              "      <td>NaN</td>\n",
              "      <td>NaN</td>\n",
              "      <td>NaN</td>\n",
              "    </tr>\n",
              "    <tr>\n",
              "      <th>NumStorePurchases</th>\n",
              "      <td>-0.082652</td>\n",
              "      <td>-0.143923</td>\n",
              "      <td>-0.237492</td>\n",
              "      <td>0.194953</td>\n",
              "      <td>0.005055</td>\n",
              "      <td>0.658561</td>\n",
              "      <td>0.315495</td>\n",
              "      <td>0.594105</td>\n",
              "      <td>0.284956</td>\n",
              "      <td>0.282378</td>\n",
              "      <td>...</td>\n",
              "      <td>0.296170</td>\n",
              "      <td>1.000000</td>\n",
              "      <td>-0.203805</td>\n",
              "      <td>NaN</td>\n",
              "      <td>NaN</td>\n",
              "      <td>NaN</td>\n",
              "      <td>NaN</td>\n",
              "      <td>NaN</td>\n",
              "      <td>NaN</td>\n",
              "      <td>NaN</td>\n",
              "    </tr>\n",
              "    <tr>\n",
              "      <th>NumWebVisitsMonth</th>\n",
              "      <td>0.046857</td>\n",
              "      <td>0.143470</td>\n",
              "      <td>0.144319</td>\n",
              "      <td>-0.209269</td>\n",
              "      <td>0.030245</td>\n",
              "      <td>0.010851</td>\n",
              "      <td>0.036682</td>\n",
              "      <td>0.117996</td>\n",
              "      <td>0.019533</td>\n",
              "      <td>0.006639</td>\n",
              "      <td>...</td>\n",
              "      <td>-0.131237</td>\n",
              "      <td>-0.203805</td>\n",
              "      <td>1.000000</td>\n",
              "      <td>NaN</td>\n",
              "      <td>NaN</td>\n",
              "      <td>NaN</td>\n",
              "      <td>NaN</td>\n",
              "      <td>NaN</td>\n",
              "      <td>NaN</td>\n",
              "      <td>NaN</td>\n",
              "    </tr>\n",
              "    <tr>\n",
              "      <th>AcceptedCmp3</th>\n",
              "      <td>NaN</td>\n",
              "      <td>NaN</td>\n",
              "      <td>NaN</td>\n",
              "      <td>NaN</td>\n",
              "      <td>NaN</td>\n",
              "      <td>NaN</td>\n",
              "      <td>NaN</td>\n",
              "      <td>NaN</td>\n",
              "      <td>NaN</td>\n",
              "      <td>NaN</td>\n",
              "      <td>...</td>\n",
              "      <td>NaN</td>\n",
              "      <td>NaN</td>\n",
              "      <td>NaN</td>\n",
              "      <td>NaN</td>\n",
              "      <td>NaN</td>\n",
              "      <td>NaN</td>\n",
              "      <td>NaN</td>\n",
              "      <td>NaN</td>\n",
              "      <td>NaN</td>\n",
              "      <td>NaN</td>\n",
              "    </tr>\n",
              "    <tr>\n",
              "      <th>AcceptedCmp4</th>\n",
              "      <td>NaN</td>\n",
              "      <td>NaN</td>\n",
              "      <td>NaN</td>\n",
              "      <td>NaN</td>\n",
              "      <td>NaN</td>\n",
              "      <td>NaN</td>\n",
              "      <td>NaN</td>\n",
              "      <td>NaN</td>\n",
              "      <td>NaN</td>\n",
              "      <td>NaN</td>\n",
              "      <td>...</td>\n",
              "      <td>NaN</td>\n",
              "      <td>NaN</td>\n",
              "      <td>NaN</td>\n",
              "      <td>NaN</td>\n",
              "      <td>NaN</td>\n",
              "      <td>NaN</td>\n",
              "      <td>NaN</td>\n",
              "      <td>NaN</td>\n",
              "      <td>NaN</td>\n",
              "      <td>NaN</td>\n",
              "    </tr>\n",
              "    <tr>\n",
              "      <th>AcceptedCmp5</th>\n",
              "      <td>NaN</td>\n",
              "      <td>NaN</td>\n",
              "      <td>NaN</td>\n",
              "      <td>NaN</td>\n",
              "      <td>NaN</td>\n",
              "      <td>NaN</td>\n",
              "      <td>NaN</td>\n",
              "      <td>NaN</td>\n",
              "      <td>NaN</td>\n",
              "      <td>NaN</td>\n",
              "      <td>...</td>\n",
              "      <td>NaN</td>\n",
              "      <td>NaN</td>\n",
              "      <td>NaN</td>\n",
              "      <td>NaN</td>\n",
              "      <td>NaN</td>\n",
              "      <td>NaN</td>\n",
              "      <td>NaN</td>\n",
              "      <td>NaN</td>\n",
              "      <td>NaN</td>\n",
              "      <td>NaN</td>\n",
              "    </tr>\n",
              "    <tr>\n",
              "      <th>AcceptedCmp1</th>\n",
              "      <td>NaN</td>\n",
              "      <td>NaN</td>\n",
              "      <td>NaN</td>\n",
              "      <td>NaN</td>\n",
              "      <td>NaN</td>\n",
              "      <td>NaN</td>\n",
              "      <td>NaN</td>\n",
              "      <td>NaN</td>\n",
              "      <td>NaN</td>\n",
              "      <td>NaN</td>\n",
              "      <td>...</td>\n",
              "      <td>NaN</td>\n",
              "      <td>NaN</td>\n",
              "      <td>NaN</td>\n",
              "      <td>NaN</td>\n",
              "      <td>NaN</td>\n",
              "      <td>NaN</td>\n",
              "      <td>NaN</td>\n",
              "      <td>NaN</td>\n",
              "      <td>NaN</td>\n",
              "      <td>NaN</td>\n",
              "    </tr>\n",
              "    <tr>\n",
              "      <th>AcceptedCmp2</th>\n",
              "      <td>NaN</td>\n",
              "      <td>NaN</td>\n",
              "      <td>NaN</td>\n",
              "      <td>NaN</td>\n",
              "      <td>NaN</td>\n",
              "      <td>NaN</td>\n",
              "      <td>NaN</td>\n",
              "      <td>NaN</td>\n",
              "      <td>NaN</td>\n",
              "      <td>NaN</td>\n",
              "      <td>...</td>\n",
              "      <td>NaN</td>\n",
              "      <td>NaN</td>\n",
              "      <td>NaN</td>\n",
              "      <td>NaN</td>\n",
              "      <td>NaN</td>\n",
              "      <td>NaN</td>\n",
              "      <td>NaN</td>\n",
              "      <td>NaN</td>\n",
              "      <td>NaN</td>\n",
              "      <td>NaN</td>\n",
              "    </tr>\n",
              "    <tr>\n",
              "      <th>Response</th>\n",
              "      <td>NaN</td>\n",
              "      <td>NaN</td>\n",
              "      <td>NaN</td>\n",
              "      <td>NaN</td>\n",
              "      <td>NaN</td>\n",
              "      <td>NaN</td>\n",
              "      <td>NaN</td>\n",
              "      <td>NaN</td>\n",
              "      <td>NaN</td>\n",
              "      <td>NaN</td>\n",
              "      <td>...</td>\n",
              "      <td>NaN</td>\n",
              "      <td>NaN</td>\n",
              "      <td>NaN</td>\n",
              "      <td>NaN</td>\n",
              "      <td>NaN</td>\n",
              "      <td>NaN</td>\n",
              "      <td>NaN</td>\n",
              "      <td>NaN</td>\n",
              "      <td>NaN</td>\n",
              "      <td>NaN</td>\n",
              "    </tr>\n",
              "    <tr>\n",
              "      <th>Complain</th>\n",
              "      <td>NaN</td>\n",
              "      <td>NaN</td>\n",
              "      <td>NaN</td>\n",
              "      <td>NaN</td>\n",
              "      <td>NaN</td>\n",
              "      <td>NaN</td>\n",
              "      <td>NaN</td>\n",
              "      <td>NaN</td>\n",
              "      <td>NaN</td>\n",
              "      <td>NaN</td>\n",
              "      <td>...</td>\n",
              "      <td>NaN</td>\n",
              "      <td>NaN</td>\n",
              "      <td>NaN</td>\n",
              "      <td>NaN</td>\n",
              "      <td>NaN</td>\n",
              "      <td>NaN</td>\n",
              "      <td>NaN</td>\n",
              "      <td>NaN</td>\n",
              "      <td>NaN</td>\n",
              "      <td>NaN</td>\n",
              "    </tr>\n",
              "  </tbody>\n",
              "</table>\n",
              "<p>23 rows × 23 columns</p>\n",
              "</div>\n",
              "    <div class=\"colab-df-buttons\">\n",
              "\n",
              "  <div class=\"colab-df-container\">\n",
              "    <button class=\"colab-df-convert\" onclick=\"convertToInteractive('df-ab4b3db1-48a0-41a8-be11-7b5b1a34f184')\"\n",
              "            title=\"Convert this dataframe to an interactive table.\"\n",
              "            style=\"display:none;\">\n",
              "\n",
              "  <svg xmlns=\"http://www.w3.org/2000/svg\" height=\"24px\" viewBox=\"0 -960 960 960\">\n",
              "    <path d=\"M120-120v-720h720v720H120Zm60-500h600v-160H180v160Zm220 220h160v-160H400v160Zm0 220h160v-160H400v160ZM180-400h160v-160H180v160Zm440 0h160v-160H620v160ZM180-180h160v-160H180v160Zm440 0h160v-160H620v160Z\"/>\n",
              "  </svg>\n",
              "    </button>\n",
              "\n",
              "  <style>\n",
              "    .colab-df-container {\n",
              "      display:flex;\n",
              "      gap: 12px;\n",
              "    }\n",
              "\n",
              "    .colab-df-convert {\n",
              "      background-color: #E8F0FE;\n",
              "      border: none;\n",
              "      border-radius: 50%;\n",
              "      cursor: pointer;\n",
              "      display: none;\n",
              "      fill: #1967D2;\n",
              "      height: 32px;\n",
              "      padding: 0 0 0 0;\n",
              "      width: 32px;\n",
              "    }\n",
              "\n",
              "    .colab-df-convert:hover {\n",
              "      background-color: #E2EBFA;\n",
              "      box-shadow: 0px 1px 2px rgba(60, 64, 67, 0.3), 0px 1px 3px 1px rgba(60, 64, 67, 0.15);\n",
              "      fill: #174EA6;\n",
              "    }\n",
              "\n",
              "    .colab-df-buttons div {\n",
              "      margin-bottom: 4px;\n",
              "    }\n",
              "\n",
              "    [theme=dark] .colab-df-convert {\n",
              "      background-color: #3B4455;\n",
              "      fill: #D2E3FC;\n",
              "    }\n",
              "\n",
              "    [theme=dark] .colab-df-convert:hover {\n",
              "      background-color: #434B5C;\n",
              "      box-shadow: 0px 1px 3px 1px rgba(0, 0, 0, 0.15);\n",
              "      filter: drop-shadow(0px 1px 2px rgba(0, 0, 0, 0.3));\n",
              "      fill: #FFFFFF;\n",
              "    }\n",
              "  </style>\n",
              "\n",
              "    <script>\n",
              "      const buttonEl =\n",
              "        document.querySelector('#df-ab4b3db1-48a0-41a8-be11-7b5b1a34f184 button.colab-df-convert');\n",
              "      buttonEl.style.display =\n",
              "        google.colab.kernel.accessAllowed ? 'block' : 'none';\n",
              "\n",
              "      async function convertToInteractive(key) {\n",
              "        const element = document.querySelector('#df-ab4b3db1-48a0-41a8-be11-7b5b1a34f184');\n",
              "        const dataTable =\n",
              "          await google.colab.kernel.invokeFunction('convertToInteractive',\n",
              "                                                    [key], {});\n",
              "        if (!dataTable) return;\n",
              "\n",
              "        const docLinkHtml = 'Like what you see? Visit the ' +\n",
              "          '<a target=\"_blank\" href=https://colab.research.google.com/notebooks/data_table.ipynb>data table notebook</a>'\n",
              "          + ' to learn more about interactive tables.';\n",
              "        element.innerHTML = '';\n",
              "        dataTable['output_type'] = 'display_data';\n",
              "        await google.colab.output.renderOutput(dataTable, element);\n",
              "        const docLink = document.createElement('div');\n",
              "        docLink.innerHTML = docLinkHtml;\n",
              "        element.appendChild(docLink);\n",
              "      }\n",
              "    </script>\n",
              "  </div>\n",
              "\n",
              "\n",
              "<div id=\"df-9d751f9c-dedb-4dc4-b33b-d177acc1ddc6\">\n",
              "  <button class=\"colab-df-quickchart\" onclick=\"quickchart('df-9d751f9c-dedb-4dc4-b33b-d177acc1ddc6')\"\n",
              "            title=\"Suggest charts\"\n",
              "            style=\"display:none;\">\n",
              "\n",
              "<svg xmlns=\"http://www.w3.org/2000/svg\" height=\"24px\"viewBox=\"0 0 24 24\"\n",
              "     width=\"24px\">\n",
              "    <g>\n",
              "        <path d=\"M19 3H5c-1.1 0-2 .9-2 2v14c0 1.1.9 2 2 2h14c1.1 0 2-.9 2-2V5c0-1.1-.9-2-2-2zM9 17H7v-7h2v7zm4 0h-2V7h2v10zm4 0h-2v-4h2v4z\"/>\n",
              "    </g>\n",
              "</svg>\n",
              "  </button>\n",
              "\n",
              "<style>\n",
              "  .colab-df-quickchart {\n",
              "      --bg-color: #E8F0FE;\n",
              "      --fill-color: #1967D2;\n",
              "      --hover-bg-color: #E2EBFA;\n",
              "      --hover-fill-color: #174EA6;\n",
              "      --disabled-fill-color: #AAA;\n",
              "      --disabled-bg-color: #DDD;\n",
              "  }\n",
              "\n",
              "  [theme=dark] .colab-df-quickchart {\n",
              "      --bg-color: #3B4455;\n",
              "      --fill-color: #D2E3FC;\n",
              "      --hover-bg-color: #434B5C;\n",
              "      --hover-fill-color: #FFFFFF;\n",
              "      --disabled-bg-color: #3B4455;\n",
              "      --disabled-fill-color: #666;\n",
              "  }\n",
              "\n",
              "  .colab-df-quickchart {\n",
              "    background-color: var(--bg-color);\n",
              "    border: none;\n",
              "    border-radius: 50%;\n",
              "    cursor: pointer;\n",
              "    display: none;\n",
              "    fill: var(--fill-color);\n",
              "    height: 32px;\n",
              "    padding: 0;\n",
              "    width: 32px;\n",
              "  }\n",
              "\n",
              "  .colab-df-quickchart:hover {\n",
              "    background-color: var(--hover-bg-color);\n",
              "    box-shadow: 0 1px 2px rgba(60, 64, 67, 0.3), 0 1px 3px 1px rgba(60, 64, 67, 0.15);\n",
              "    fill: var(--button-hover-fill-color);\n",
              "  }\n",
              "\n",
              "  .colab-df-quickchart-complete:disabled,\n",
              "  .colab-df-quickchart-complete:disabled:hover {\n",
              "    background-color: var(--disabled-bg-color);\n",
              "    fill: var(--disabled-fill-color);\n",
              "    box-shadow: none;\n",
              "  }\n",
              "\n",
              "  .colab-df-spinner {\n",
              "    border: 2px solid var(--fill-color);\n",
              "    border-color: transparent;\n",
              "    border-bottom-color: var(--fill-color);\n",
              "    animation:\n",
              "      spin 1s steps(1) infinite;\n",
              "  }\n",
              "\n",
              "  @keyframes spin {\n",
              "    0% {\n",
              "      border-color: transparent;\n",
              "      border-bottom-color: var(--fill-color);\n",
              "      border-left-color: var(--fill-color);\n",
              "    }\n",
              "    20% {\n",
              "      border-color: transparent;\n",
              "      border-left-color: var(--fill-color);\n",
              "      border-top-color: var(--fill-color);\n",
              "    }\n",
              "    30% {\n",
              "      border-color: transparent;\n",
              "      border-left-color: var(--fill-color);\n",
              "      border-top-color: var(--fill-color);\n",
              "      border-right-color: var(--fill-color);\n",
              "    }\n",
              "    40% {\n",
              "      border-color: transparent;\n",
              "      border-right-color: var(--fill-color);\n",
              "      border-top-color: var(--fill-color);\n",
              "    }\n",
              "    60% {\n",
              "      border-color: transparent;\n",
              "      border-right-color: var(--fill-color);\n",
              "    }\n",
              "    80% {\n",
              "      border-color: transparent;\n",
              "      border-right-color: var(--fill-color);\n",
              "      border-bottom-color: var(--fill-color);\n",
              "    }\n",
              "    90% {\n",
              "      border-color: transparent;\n",
              "      border-bottom-color: var(--fill-color);\n",
              "    }\n",
              "  }\n",
              "</style>\n",
              "\n",
              "  <script>\n",
              "    async function quickchart(key) {\n",
              "      const quickchartButtonEl =\n",
              "        document.querySelector('#' + key + ' button');\n",
              "      quickchartButtonEl.disabled = true;  // To prevent multiple clicks.\n",
              "      quickchartButtonEl.classList.add('colab-df-spinner');\n",
              "      try {\n",
              "        const charts = await google.colab.kernel.invokeFunction(\n",
              "            'suggestCharts', [key], {});\n",
              "      } catch (error) {\n",
              "        console.error('Error during call to suggestCharts:', error);\n",
              "      }\n",
              "      quickchartButtonEl.classList.remove('colab-df-spinner');\n",
              "      quickchartButtonEl.classList.add('colab-df-quickchart-complete');\n",
              "    }\n",
              "    (() => {\n",
              "      let quickchartButtonEl =\n",
              "        document.querySelector('#df-9d751f9c-dedb-4dc4-b33b-d177acc1ddc6 button');\n",
              "      quickchartButtonEl.style.display =\n",
              "        google.colab.kernel.accessAllowed ? 'block' : 'none';\n",
              "    })();\n",
              "  </script>\n",
              "</div>\n",
              "\n",
              "  <div id=\"id_ab66e5cc-9fc3-4719-b609-2e0fafcfee66\">\n",
              "    <style>\n",
              "      .colab-df-generate {\n",
              "        background-color: #E8F0FE;\n",
              "        border: none;\n",
              "        border-radius: 50%;\n",
              "        cursor: pointer;\n",
              "        display: none;\n",
              "        fill: #1967D2;\n",
              "        height: 32px;\n",
              "        padding: 0 0 0 0;\n",
              "        width: 32px;\n",
              "      }\n",
              "\n",
              "      .colab-df-generate:hover {\n",
              "        background-color: #E2EBFA;\n",
              "        box-shadow: 0px 1px 2px rgba(60, 64, 67, 0.3), 0px 1px 3px 1px rgba(60, 64, 67, 0.15);\n",
              "        fill: #174EA6;\n",
              "      }\n",
              "\n",
              "      [theme=dark] .colab-df-generate {\n",
              "        background-color: #3B4455;\n",
              "        fill: #D2E3FC;\n",
              "      }\n",
              "\n",
              "      [theme=dark] .colab-df-generate:hover {\n",
              "        background-color: #434B5C;\n",
              "        box-shadow: 0px 1px 3px 1px rgba(0, 0, 0, 0.15);\n",
              "        filter: drop-shadow(0px 1px 2px rgba(0, 0, 0, 0.3));\n",
              "        fill: #FFFFFF;\n",
              "      }\n",
              "    </style>\n",
              "    <button class=\"colab-df-generate\" onclick=\"generateWithVariable('corr_matrix')\"\n",
              "            title=\"Generate code using this dataframe.\"\n",
              "            style=\"display:none;\">\n",
              "\n",
              "  <svg xmlns=\"http://www.w3.org/2000/svg\" height=\"24px\"viewBox=\"0 0 24 24\"\n",
              "       width=\"24px\">\n",
              "    <path d=\"M7,19H8.4L18.45,9,17,7.55,7,17.6ZM5,21V16.75L18.45,3.32a2,2,0,0,1,2.83,0l1.4,1.43a1.91,1.91,0,0,1,.58,1.4,1.91,1.91,0,0,1-.58,1.4L9.25,21ZM18.45,9,17,7.55Zm-12,3A5.31,5.31,0,0,0,4.9,8.1,5.31,5.31,0,0,0,1,6.5,5.31,5.31,0,0,0,4.9,4.9,5.31,5.31,0,0,0,6.5,1,5.31,5.31,0,0,0,8.1,4.9,5.31,5.31,0,0,0,12,6.5,5.46,5.46,0,0,0,6.5,12Z\"/>\n",
              "  </svg>\n",
              "    </button>\n",
              "    <script>\n",
              "      (() => {\n",
              "      const buttonEl =\n",
              "        document.querySelector('#id_ab66e5cc-9fc3-4719-b609-2e0fafcfee66 button.colab-df-generate');\n",
              "      buttonEl.style.display =\n",
              "        google.colab.kernel.accessAllowed ? 'block' : 'none';\n",
              "\n",
              "      buttonEl.onclick = () => {\n",
              "        google.colab.notebook.generateWithVariable('corr_matrix');\n",
              "      }\n",
              "      })();\n",
              "    </script>\n",
              "  </div>\n",
              "\n",
              "    </div>\n",
              "  </div>\n"
            ],
            "application/vnd.google.colaboratory.intrinsic+json": {
              "type": "dataframe",
              "variable_name": "corr_matrix"
            }
          },
          "metadata": {},
          "execution_count": 15
        }
      ]
    },
    {
      "cell_type": "code",
      "source": [
        "plt.figure(figsize=(10, 8))\n",
        "sns.heatmap(corr_matrix, annot=True, cmap='coolwarm', linewidths=0.2)\n",
        "plt.title(\"Sales Matrix\")\n",
        "plt.show()"
      ],
      "metadata": {
        "colab": {
          "base_uri": "https://localhost:8080/",
          "height": 786
        },
        "id": "Zgkn5E7nY9Qt",
        "outputId": "b66838c2-0dcb-4ba9-d368-48d031dfd035"
      },
      "execution_count": null,
      "outputs": [
        {
          "output_type": "display_data",
          "data": {
            "text/plain": [
              "<Figure size 1000x800 with 2 Axes>"
            ],
            "image/png": "[encoded data removed]"
          },
          "metadata": {}
        }
      ]
    },
    {
      "cell_type": "markdown",
      "source": [
        "+ The matrix was quite complicated to follow through, therefore, we will try to break it down into part.\n",
        "+ Be more specifically, we will focus on each products, to indicate which key factors affect the increase in the amount of product purchased"
      ],
      "metadata": {
        "id": "eIHbXmYYBUL_"
      }
    },
    {
      "cell_type": "markdown",
      "source": [
        "### **6.1) Wines**"
      ],
      "metadata": {
        "id": "6Ngqu1s6g675"
      }
    },
    {
      "cell_type": "code",
      "source": [
        "corr_values = corr_matrix[\"MntWines\"]  # Replace \"Label\" with your actual label column name\n",
        "\n",
        "# Filter correlation values between 0.3 and 0.9 or between -0.3 and -0.9\n",
        "filtered_corr = corr_values[((corr_values > 0.5) & (corr_values < 0.9)) | ((corr_values < -0.5) & (corr_values > -0.9))]\n",
        "\n",
        "# Display columns with correlation in the specified range\n",
        "# print(filtered_corr)\n",
        "plt.figure(figsize=(8, 6))\n",
        "filtered_corr_df = filtered_corr.to_frame()\n",
        "sns.heatmap(filtered_corr_df, annot=True, cmap='coolwarm', linewidths=0.2)\n",
        "plt.title(\"Sales Matrix\")\n",
        "plt.show()"
      ],
      "metadata": {
        "colab": {
          "base_uri": "https://localhost:8080/",
          "height": 545
        },
        "id": "a_uGA8pbZcso",
        "outputId": "b5e744b1-4d79-476b-da81-5a45ae426956"
      },
      "execution_count": null,
      "outputs": [
        {
          "output_type": "display_data",
          "data": {
            "text/plain": [
              "<Figure size 800x600 with 2 Axes>"
            ],
            "image/png": "[encoded data removed]"
          },
          "metadata": {}
        }
      ]
    },
    {
      "cell_type": "markdown",
      "source": [
        "+ According to the stack, the increase of wine purchased could be explained by the increase in the number of web, store, and Catalog purchases."
      ],
      "metadata": {
        "id": "-zDAZKcVB45L"
      }
    },
    {
      "cell_type": "markdown",
      "source": [
        "### **6.2) Fruits**"
      ],
      "metadata": {
        "id": "ojiv9Y4KhEAQ"
      }
    },
    {
      "cell_type": "code",
      "source": [
        "corr_values = corr_matrix[\"MntFruits\"]  # Replace \"Label\" with your actual label column name\n",
        "\n",
        "# Filter correlation values between 0.3 and 0.9 or between -0.3 and -0.9\n",
        "filtered_corr = corr_values[((corr_values > 0.5) & (corr_values < 0.9)) | ((corr_values < -0.5) & (corr_values > -0.9))]\n",
        "\n",
        "# Display columns with correlation in the specified range\n",
        "print(filtered_corr)"
      ],
      "metadata": {
        "colab": {
          "base_uri": "https://localhost:8080/"
        },
        "id": "h6k-kAG0Z0MU",
        "outputId": "af10573b-415a-449d-f9a8-afd08e786533"
      },
      "execution_count": null,
      "outputs": [
        {
          "output_type": "stream",
          "name": "stdout",
          "text": [
            "MntSweetProducts    0.583519\n",
            "Name: MntFruits, dtype: float64\n"
          ]
        }
      ]
    },
    {
      "cell_type": "markdown",
      "source": [
        "+ There seem to be no key factors, which could explain the trend of the fruits purchase except the metric from sweet products"
      ],
      "metadata": {
        "id": "hCv5-CCWCWyt"
      }
    },
    {
      "cell_type": "markdown",
      "source": [
        "### **6.3) Meat**"
      ],
      "metadata": {
        "id": "Z5cAwA9UhPUA"
      }
    },
    {
      "cell_type": "code",
      "source": [
        "corr_values = corr_matrix[\"MntMeatProducts\"]  # Replace \"Label\" with your actual label column name\n",
        "\n",
        "# Filter correlation values between 0.3 and 0.9 or between -0.3 and -0.9\n",
        "filtered_corr = corr_values[((corr_values > 0.5) & (corr_values < 0.9)) | ((corr_values < -0.5) & (corr_values > -0.9))]\n",
        "\n",
        "# Display columns with correlation in the specified range\n",
        "# print(filtered_corr)\n",
        "plt.figure(figsize=(8, 6))\n",
        "filtered_corr_df = filtered_corr.to_frame()\n",
        "sns.heatmap(filtered_corr_df, annot=True, cmap='coolwarm', linewidths=0.2)\n",
        "plt.title(\"Factors affecting Meat Purchases\")\n",
        "plt.show()"
      ],
      "metadata": {
        "colab": {
          "base_uri": "https://localhost:8080/",
          "height": 545
        },
        "id": "2RL3H3i9hKaj",
        "outputId": "5e3ca788-c80d-4768-9f7b-f428511cd552"
      },
      "execution_count": null,
      "outputs": [
        {
          "output_type": "display_data",
          "data": {
            "text/plain": [
              "<Figure size 800x600 with 2 Axes>"
            ],
            "image/png": "[encoded data removed]"
          },
          "metadata": {}
        }
      ]
    },
    {
      "cell_type": "markdown",
      "source": [
        "+ The factors correlating with the purchases of meat are quite similar to that of the wine except the missing of the number of Catalog purchases"
      ],
      "metadata": {
        "id": "pijchTCQCxGO"
      }
    },
    {
      "cell_type": "markdown",
      "source": [
        "### **6.4) Fish**"
      ],
      "metadata": {
        "id": "nPpHnqAYh5Cw"
      }
    },
    {
      "cell_type": "code",
      "source": [
        "corr_values = corr_matrix[\"MntFishProducts\"]  # Replace \"Label\" with your actual label column name\n",
        "\n",
        "# Filter correlation values between 0.3 and 0.9 or between -0.3 and -0.9\n",
        "filtered_corr = corr_values[((corr_values > 0.5) & (corr_values < 0.9)) | ((corr_values < -0.5) & (corr_values > -0.9))]\n",
        "\n",
        "# Display columns with correlation in the specified range\n",
        "print(filtered_corr)\n",
        "# plt.figure(figsize=(8, 6))\n",
        "# filtered_corr_df = filtered_corr.to_frame()\n",
        "# sns.heatmap(filtered_corr_df, annot=True, cmap='coolwarm', linewidths=0.2)\n",
        "# plt.title(\"Sales Matrix\")\n",
        "# plt.show()"
      ],
      "metadata": {
        "colab": {
          "base_uri": "https://localhost:8080/"
        },
        "id": "8ie0m_3ph3AL",
        "outputId": "3664838b-3c80-47fc-fbe4-4bfd72b6a41f"
      },
      "execution_count": null,
      "outputs": [
        {
          "output_type": "stream",
          "name": "stdout",
          "text": [
            "Series([], Name: MntFishProducts, dtype: float64)\n"
          ]
        }
      ]
    },
    {
      "cell_type": "markdown",
      "source": [
        "No factors indicated"
      ],
      "metadata": {
        "id": "r3FMz1vdDFwt"
      }
    },
    {
      "cell_type": "markdown",
      "source": [
        "### **6.5) Sweet**"
      ],
      "metadata": {
        "id": "_tfVjy13iV3-"
      }
    },
    {
      "cell_type": "code",
      "source": [
        "corr_values = corr_matrix[\"MntSweetProducts\"]  # Replace \"Label\" with your actual label column name\n",
        "\n",
        "# Filter correlation values between 0.3 and 0.9 or between -0.3 and -0.9\n",
        "filtered_corr = corr_values[((corr_values > 0.5) & (corr_values < 0.9)) | ((corr_values < -0.5) & (corr_values > -0.9))]\n",
        "\n",
        "# Display columns with correlation in the specified range\n",
        "print(filtered_corr)"
      ],
      "metadata": {
        "colab": {
          "base_uri": "https://localhost:8080/"
        },
        "id": "eqafrjufiOgX",
        "outputId": "34643f66-7e3e-48a6-d00e-e8425ec9b06f"
      },
      "execution_count": null,
      "outputs": [
        {
          "output_type": "stream",
          "name": "stdout",
          "text": [
            "MntFruits    0.583519\n",
            "Name: MntSweetProducts, dtype: float64\n"
          ]
        }
      ]
    },
    {
      "cell_type": "markdown",
      "source": [
        "### **6.6) Gold**"
      ],
      "metadata": {
        "id": "ClDsxWLfig_U"
      }
    },
    {
      "cell_type": "code",
      "source": [
        "corr_values = corr_matrix[\"MntGoldProds\"]  # Replace \"Label\" with your actual label column name\n",
        "\n",
        "# Filter correlation values between 0.3 and 0.9 or between -0.3 and -0.9\n",
        "filtered_corr = corr_values[((corr_values > 0.5) & (corr_values < 0.9)) | ((corr_values < -0.5) & (corr_values > -0.9))]\n",
        "\n",
        "# Display columns with correlation in the specified range\n",
        "print(filtered_corr)"
      ],
      "metadata": {
        "colab": {
          "base_uri": "https://localhost:8080/"
        },
        "id": "Eznkm8hEieI5",
        "outputId": "ef97ec95-73f7-4f4d-dfbc-e06f6c60b39b"
      },
      "execution_count": null,
      "outputs": [
        {
          "output_type": "stream",
          "name": "stdout",
          "text": [
            "NumCatalogPurchases    0.568304\n",
            "Name: MntGoldProds, dtype: float64\n"
          ]
        }
      ]
    },
    {
      "cell_type": "markdown",
      "source": [
        "We have found something interesting here as we can probably infer that most gold were purchased through catalogue. As a result, this method should be consider if we want to increase the amount of gold purchases in the future."
      ],
      "metadata": {
        "id": "48Dzm0KtDL3N"
      }
    },
    {
      "cell_type": "markdown",
      "source": [
        "## **Plotting histogram to observe the marital status distribution**"
      ],
      "metadata": {
        "id": "PppNK0quTTtr"
      }
    },
    {
      "cell_type": "code",
      "source": [
        "plt.figure(figsize=(8, 6))\n",
        "sns.histplot(df[\"Marital_Status\"], kde=True)\n",
        "plt.title(\"Marital Status Distribution\")\n",
        "plt.xlabel(\"Marital Status\")\n",
        "plt.ylabel(\"Frequency\")\n",
        "plt.show()"
      ],
      "metadata": {
        "colab": {
          "base_uri": "https://localhost:8080/",
          "height": 564
        },
        "id": "V26aloUsTe83",
        "outputId": "d4d78ac5-4b92-4492-b879-19e254835dbd"
      },
      "execution_count": null,
      "outputs": [
        {
          "output_type": "display_data",
          "data": {
            "text/plain": [
              "<Figure size 800x600 with 1 Axes>"
            ],
            "image/png": "[encoded data removed]"
          },
          "metadata": {}
        }
      ]
    },
    {
      "cell_type": "markdown",
      "source": [
        "The majority of customers are either married or in a relationship"
      ],
      "metadata": {
        "id": "Dc1Pjv2QTp1O"
      }
    },
    {
      "cell_type": "markdown",
      "source": [
        "# **7) Visualization**"
      ],
      "metadata": {
        "id": "eQALnmD7V3eD"
      }
    },
    {
      "cell_type": "markdown",
      "source": [
        "For further information, refer to the ReadME file at the `7) Visualization` section"
      ],
      "metadata": {
        "id": "X-dHvi1qTIQB"
      }
    },
    {
      "cell_type": "markdown",
      "source": [
        "# **8) Analysis**"
      ],
      "metadata": {
        "id": "qfB3l-wFUeji"
      }
    },
    {
      "cell_type": "markdown",
      "source": [
        "## **Predict the Wines & Meat Purchases**"
      ],
      "metadata": {
        "id": "dp59TkkO5dNZ"
      }
    },
    {
      "cell_type": "markdown",
      "source": [
        "In this section, I utilized Machine Learning to formulate hypotheses regarding the purchase amount of wine and meat."
      ],
      "metadata": {
        "id": "9ZFyENtpDuRJ"
      }
    },
    {
      "cell_type": "markdown",
      "source": [
        "### **1) Wines**"
      ],
      "metadata": {
        "id": "bDhxZz5C6WRa"
      }
    },
    {
      "cell_type": "code",
      "source": [
        "import statsmodels.api as sm\n",
        "\n",
        "X_wine = df[[\"NumWebPurchases\", \"NumCatalogPurchases\", \"NumStorePurchases\"]]\n",
        "y_wine = df[\"MntWines\"]\n",
        "\n",
        "X_wine = sm.add_constant(X_wine)\n",
        "\n",
        "model = sm.OLS(y_wine, X_wine).fit()\n",
        "\n",
        "print(model.summary())"
      ],
      "metadata": {
        "colab": {
          "base_uri": "https://localhost:8080/"
        },
        "id": "Z6ju-7AK4AX3",
        "outputId": "fb46ee03-a9f3-489a-cda1-ae0dd6e84330"
      },
      "execution_count": null,
      "outputs": [
        {
          "output_type": "stream",
          "name": "stdout",
          "text": [
            "                            OLS Regression Results                            \n",
            "==============================================================================\n",
            "Dep. Variable:               MntWines   R-squared:                       0.710\n",
            "Model:                            OLS   Adj. R-squared:                  0.708\n",
            "Method:                 Least Squares   F-statistic:                     638.3\n",
            "Date:                Sat, 15 Feb 2025   Prob (F-statistic):          6.70e-210\n",
            "Time:                        14:20:01   Log-Likelihood:                -3781.6\n",
            "No. Observations:                 788   AIC:                             7571.\n",
            "Df Residuals:                     784   BIC:                             7590.\n",
            "Df Model:                           3                                         \n",
            "Covariance Type:            nonrobust                                         \n",
            "=======================================================================================\n",
            "                          coef    std err          t      P>|t|      [0.025      0.975]\n",
            "---------------------------------------------------------------------------------------\n",
            "const                 -72.7952      4.368    -16.666      0.000     -81.369     -64.221\n",
            "NumWebPurchases        19.5236      1.050     18.585      0.000      17.461      21.586\n",
            "NumCatalogPurchases    21.9635      1.975     11.122      0.000      18.087      25.840\n",
            "NumStorePurchases      19.4142      1.589     12.216      0.000      16.295      22.534\n",
            "==============================================================================\n",
            "Omnibus:                       40.641   Durbin-Watson:                   1.809\n",
            "Prob(Omnibus):                  0.000   Jarque-Bera (JB):               91.150\n",
            "Skew:                           0.287   Prob(JB):                     1.61e-20\n",
            "Kurtosis:                       4.564   Cond. No.                         18.5\n",
            "==============================================================================\n",
            "\n",
            "Notes:\n",
            "[1] Standard Errors assume that the covariance matrix of the errors is correctly specified.\n"
          ]
        }
      ]
    },
    {
      "cell_type": "markdown",
      "source": [
        "+ **R^2 = 71%**: the model can explain 71% of the variance in the dependent variable (`MntWines`) based on the independent variables (`NumWebPurchases`, `NumCatalogPurchases`, `NumStorePurchases`)\n",
        "+ **All p-value equal to 0**: all independent variables have a real effect on the dependent variable"
      ],
      "metadata": {
        "id": "hGBoFgfJFRHr"
      }
    },
    {
      "cell_type": "code",
      "source": [
        "test_data_wine = pd.DataFrame({\n",
        "    \"NumWebPurchases\": [10],\n",
        "    \"NumCatalogPurchases\": [0],\n",
        "    \"NumStorePurchases\": [0]\n",
        "})\n",
        "\n",
        "test_data_wine = sm.add_constant(test_data_wine, has_constant=\"add\")\n",
        "\n",
        "predicted_amount = model.predict(test_data_wine)\n",
        "\n",
        "print(f\"Predicted Wines Purchases: {predicted_amount[0]}\")"
      ],
      "metadata": {
        "colab": {
          "base_uri": "https://localhost:8080/"
        },
        "id": "xSU5bQbV6kWR",
        "outputId": "04c478b3-8d1b-46c7-f496-2fa21015a665"
      },
      "execution_count": null,
      "outputs": [
        {
          "output_type": "stream",
          "name": "stdout",
          "text": [
            "Predicted Wines Purchases: 122.44076095476626\n"
          ]
        }
      ]
    },
    {
      "cell_type": "code",
      "source": [
        "test_data_wine = pd.DataFrame({\n",
        "    \"NumWebPurchases\": [0],\n",
        "    \"NumCatalogPurchases\": [10],\n",
        "    \"NumStorePurchases\": [0]\n",
        "})\n",
        "\n",
        "test_data_wine = sm.add_constant(test_data_wine, has_constant=\"add\")\n",
        "\n",
        "predicted_amount = model.predict(test_data_wine)\n",
        "\n",
        "print(f\"Predicted Wines Purchases: {predicted_amount[0]}\")"
      ],
      "metadata": {
        "colab": {
          "base_uri": "https://localhost:8080/"
        },
        "id": "_i8JCgeE7Zoi",
        "outputId": "f12ea8c6-1906-4ddf-f88c-59c51baa646c"
      },
      "execution_count": null,
      "outputs": [
        {
          "output_type": "stream",
          "name": "stdout",
          "text": [
            "Predicted Wines Purchases: 146.83998188674454\n"
          ]
        }
      ]
    },
    {
      "cell_type": "code",
      "source": [
        "test_data_wine = pd.DataFrame({\n",
        "    \"NumWebPurchases\": [0],\n",
        "    \"NumCatalogPurchases\": [0],\n",
        "    \"NumStorePurchases\": [10]\n",
        "})\n",
        "\n",
        "test_data_wine = sm.add_constant(test_data_wine, has_constant=\"add\")\n",
        "\n",
        "predicted_amount = model.predict(test_data_wine)\n",
        "\n",
        "print(f\"Predicted Wines Purchases: {predicted_amount[0]}\")"
      ],
      "metadata": {
        "colab": {
          "base_uri": "https://localhost:8080/"
        },
        "id": "hORAUrLr7aU3",
        "outputId": "0a381bd8-f747-4fb0-c13e-f05116d88231"
      },
      "execution_count": null,
      "outputs": [
        {
          "output_type": "stream",
          "name": "stdout",
          "text": [
            "Predicted Wines Purchases: 121.34690394696327\n"
          ]
        }
      ]
    },
    {
      "cell_type": "markdown",
      "source": [
        "### **What could be concluded from the experiment?**"
      ],
      "metadata": {
        "id": "qQRLDNypGn_k"
      }
    },
    {
      "cell_type": "markdown",
      "source": [
        "+ The increase in the number of catalog purchases has the most significant impact on the increase in wine purchases.\n",
        "+ Furthermore, an increase in the number of catalog purchases is positively correlated with the amount of gold purchased.\n",
        "=> As a result, this method should be strongly considered if the goal is to increase not only wine purchases but also gold purchases.\""
      ],
      "metadata": {
        "id": "2SEAzzx5GvWf"
      }
    },
    {
      "cell_type": "markdown",
      "source": [
        "### **2) Meats**"
      ],
      "metadata": {
        "id": "bfImoHGS6ZEh"
      }
    },
    {
      "cell_type": "code",
      "source": [
        "import statsmodels.api as sm\n",
        "\n",
        "X_meat = df[[\"NumWebPurchases\", \"NumStorePurchases\"]]\n",
        "y_meat = df[\"MntMeatProducts\"]\n",
        "\n",
        "X_meat = sm.add_constant(X_meat)\n",
        "\n",
        "model = sm.OLS(y_meat, X_meat).fit()\n",
        "\n",
        "print(model.summary())"
      ],
      "metadata": {
        "colab": {
          "base_uri": "https://localhost:8080/"
        },
        "id": "LcSAY5Zf6GT6",
        "outputId": "7ecfdca7-0bbc-433c-a6c7-74941b6d0a91"
      },
      "execution_count": null,
      "outputs": [
        {
          "output_type": "stream",
          "name": "stdout",
          "text": [
            "                            OLS Regression Results                            \n",
            "==============================================================================\n",
            "Dep. Variable:        MntMeatProducts   R-squared:                       0.569\n",
            "Model:                            OLS   Adj. R-squared:                  0.568\n",
            "Method:                 Least Squares   F-statistic:                     518.4\n",
            "Date:                Sat, 15 Feb 2025   Prob (F-statistic):          3.07e-144\n",
            "Time:                        14:20:01   Log-Likelihood:                -3270.8\n",
            "No. Observations:                 788   AIC:                             6548.\n",
            "Df Residuals:                     785   BIC:                             6562.\n",
            "Df Model:                           2                                         \n",
            "Covariance Type:            nonrobust                                         \n",
            "=====================================================================================\n",
            "                        coef    std err          t      P>|t|      [0.025      0.975]\n",
            "-------------------------------------------------------------------------------------\n",
            "const               -22.2662      2.282     -9.756      0.000     -26.746     -17.786\n",
            "NumWebPurchases      10.0283      0.505     19.844      0.000       9.036      11.020\n",
            "NumStorePurchases     6.9288      0.830      8.343      0.000       5.299       8.559\n",
            "==============================================================================\n",
            "Omnibus:                      359.365   Durbin-Watson:                   1.960\n",
            "Prob(Omnibus):                  0.000   Jarque-Bera (JB):             4118.715\n",
            "Skew:                           1.750   Prob(JB):                         0.00\n",
            "Kurtosis:                      13.639   Cond. No.                         18.4\n",
            "==============================================================================\n",
            "\n",
            "Notes:\n",
            "[1] Standard Errors assume that the covariance matrix of the errors is correctly specified.\n"
          ]
        }
      ]
    },
    {
      "cell_type": "markdown",
      "source": [
        "+ **R^2 = 57%**: the model can explain 57% of the variance in the dependent variable (`MntWines`) based on the independent variables (`NumWebPurchases`, `NumStorePurchases`)\n",
        "+ **All p-value equal to 0**: all independent variables have a real effect on the dependent variable"
      ],
      "metadata": {
        "id": "Rqk-BbEXWdFN"
      }
    },
    {
      "cell_type": "code",
      "source": [
        "test_data_meat = pd.DataFrame({\n",
        "    \"NumWebPurchases\": [10],\n",
        "    \"NumStorePurchases\": [0]\n",
        "})\n",
        "\n",
        "test_data_meat = sm.add_constant(test_data_meat, has_constant=\"add\")\n",
        "\n",
        "predicted_amount = model.predict(test_data_meat)\n",
        "\n",
        "print(f\"Predicted Meats Purchases: {predicted_amount[0]}\")"
      ],
      "metadata": {
        "colab": {
          "base_uri": "https://localhost:8080/"
        },
        "id": "7TfvwdkU6cug",
        "outputId": "0cc92ee8-a7e0-45fb-a44b-6bd0d9df90b6"
      },
      "execution_count": null,
      "outputs": [
        {
          "output_type": "stream",
          "name": "stdout",
          "text": [
            "Predicted Meats Purchases: 78.0167545851721\n"
          ]
        }
      ]
    },
    {
      "cell_type": "code",
      "source": [
        "test_data_meat = pd.DataFrame({\n",
        "    \"NumWebPurchases\": [0],\n",
        "    \"NumStorePurchases\": [10]\n",
        "})\n",
        "\n",
        "test_data_meat = sm.add_constant(test_data_meat, has_constant=\"add\")\n",
        "\n",
        "predicted_amount = model.predict(test_data_meat)\n",
        "\n",
        "print(f\"Predicted Meats Purchases: {predicted_amount[0]}\")"
      ],
      "metadata": {
        "colab": {
          "base_uri": "https://localhost:8080/"
        },
        "id": "lRl-6Xj57479",
        "outputId": "cb48b52f-c55f-4918-b850-ea8bbfa4735b"
      },
      "execution_count": null,
      "outputs": [
        {
          "output_type": "stream",
          "name": "stdout",
          "text": [
            "Predicted Meats Purchases: 47.02217688683694\n"
          ]
        }
      ]
    },
    {
      "cell_type": "markdown",
      "source": [
        "### **What could be concluded from the experiment?**"
      ],
      "metadata": {
        "id": "thY4A9JdITfR"
      }
    },
    {
      "cell_type": "markdown",
      "source": [
        "+ Meat products tend to be more preferable for purchase via e-commerce channels.\n",
        "+ This may be due to digital transformation, which has noticeably changed customers' shopping habits.\n",
        "+ When purchasing products through online platforms, people tend to feel more comfortable adding more items to their baskets.\n",
        "+ The delivery service then dispatches the goods to their homes."
      ],
      "metadata": {
        "id": "TvqoiboeIUzr"
      }
    },
    {
      "cell_type": "markdown",
      "source": [
        "# **9) Outcome**"
      ],
      "metadata": {
        "id": "Ds3WjMfOWIAQ"
      }
    },
    {
      "cell_type": "markdown",
      "source": [
        "Proceed back to file ReadME, in the `9) Outcomes` section"
      ],
      "metadata": {
        "id": "9_eqF0J1WMxU"
      }
    }
  ]
}